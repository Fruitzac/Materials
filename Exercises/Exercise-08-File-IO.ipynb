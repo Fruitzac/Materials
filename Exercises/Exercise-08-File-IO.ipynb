{
 "cells": [
  {
   "attachments": {},
   "cell_type": "markdown",
   "metadata": {},
   "source": [
    "# Exercise 8\n",
    "\n",
    "Related Notes:\n",
    "- Chapter_05_File_IO\n",
    "\n",
    "[![Open In Colab](https://colab.research.google.com/assets/colab-badge.svg)](https://colab.research.google.com/github/njc-cz2-2021/Materials/blob/main/Exercises/Exercise-08-File-IO.ipynb) "
   ]
  },
  {
   "cell_type": "markdown",
   "metadata": {},
   "source": [
    "## Exercise 8.1\n",
    "\n",
    "Write following list `s` into a text file `q1.txt` with each item occupying 1 line.\n",
    "\n",
    ">```python\n",
    ">s = [chr(i) + '.txt' for i in range(ord('A'), ord('F'))]\n",
    ">```\n",
    "\n",
    "Use following command in Jupyter Notebook to open `q1.txt` to verify the content in the file.\n",
    "\n",
    ">`!notepad q1.txt`"
   ]
  },
  {
   "cell_type": "code",
   "execution_count": 34,
   "metadata": {},
   "outputs": [
    {
     "data": {
      "text/plain": [
       "'A.txt\\nB.txt\\nC.txt\\nD.txt\\nE.txt'"
      ]
     },
     "execution_count": 34,
     "metadata": {},
     "output_type": "execute_result"
    }
   ],
   "source": [
    "#YOUR_CODE_HERE\n",
    "with open('q1.txt','w') as f:\n",
    "    s = [chr(i) + '.txt' for i in range(ord('A'),ord('F'))]\n",
    "    for x in s:\n",
    "        if x == s[-1]:\n",
    "            f.write(x)\n",
    "        else:\n",
    "            f.write(x + '\\n')\n",
    "\n",
    "f = open('q1.txt')\n",
    "f.read()"
   ]
  },
  {
   "cell_type": "markdown",
   "metadata": {},
   "source": [
    "## Exercise 8.2\n",
    "\n",
    "For each line of text in `q1.txt`, generate an empty text file and name the file using that line of text. If file already exists, remove it before generating a new file. \n",
    "\n",
    "Use the following code to check if a file exists.\n",
    "\n",
    ">```python\n",
    ">import os\n",
    ">if os.path.exists(file_path): pass\n",
    ">```\n",
    "\n",
    "Use following command in Jupyter Notebook to confirm that you have generated all files.\n",
    "\n",
    ">```bash\n",
    ">!ls *.txt\n",
    ">```"
   ]
  },
  {
   "cell_type": "code",
   "execution_count": 48,
   "metadata": {},
   "outputs": [],
   "source": [
    "#YOUR_CODE_HERE\n",
    "import os\n",
    "\n",
    "with open('q1.txt', 'r') as f:\n",
    "    \n",
    "    for i in f:\n",
    "        if os.path.exists(i):\n",
    "            pass\n",
    "        else:\n",
    "            g = open(i.split()[0], 'w')    #To open a file you need to put a 'w' parameter\n",
    "\n",
    "\n"
   ]
  },
  {
   "cell_type": "markdown",
   "metadata": {},
   "source": [
    "## Exercise 8.3\n",
    "\n",
    "Write code to generate all the positive integers up to $n$ that are perfect squares and save them in a text file called `PERFECT_SQUARES.TXT`. Note that each line within the file should contain one integer, and the last character within the file should be an end line character."
   ]
  },
  {
   "cell_type": "code",
   "execution_count": 58,
   "metadata": {},
   "outputs": [],
   "source": [
    "#YOUR_CODE_HERE\n",
    "import math\n",
    "\n",
    "def pston(n):\n",
    "    perfect = []\n",
    "    for i in range(1,n + 1):\n",
    "        if math.sqrt(i).is_integer():\n",
    "            perfect.append(i)\n",
    "    return perfect\n",
    "\n",
    "#Assume n to be 1000\n",
    "with open('PERFECT_SQUARES.TXT', 'w') as f:\n",
    "    for x in pston(1000):\n",
    "        f.write(str(x) + '\\n')\n"
   ]
  },
  {
   "cell_type": "markdown",
   "metadata": {},
   "source": [
    "## Exercise 8.4\n",
    "\n",
    "Write code to generate all the positive integers from $n + 1$ to $n + m$, and then append them to the file used in question 1. (Note, do not overwrite the perfect squares from Question 1.) "
   ]
  },
  {
   "cell_type": "code",
   "execution_count": 60,
   "metadata": {},
   "outputs": [],
   "source": [
    "#YOUR_CODE_HERE\n",
    "#Assume n to be 1000 and m to be 100\n",
    "n = 1000\n",
    "m = 100\n",
    "\n",
    "with open('PERFECT_SQUARES.TXT','a') as f:\n",
    "    for i in range(n + 1, n + m):\n",
    "        f.write(str(i) + '\\n')"
   ]
  },
  {
   "cell_type": "markdown",
   "metadata": {},
   "source": [
    "## Exercise 8.5\n",
    "\n",
    "A log of a certain boss fight from a certain game is stored inside the file `log_ex8.csv` under the folder `resources`. The csv file contains the following header.\n",
    "\n",
    "- `'Parse%'`  refers to the performance of the character relative to all other players in the world,\n",
    "- `'Name'` refers to the name of the character in the game,\n",
    "- `'Amount'`  refers to the amount of damage\n",
    "- `'iLvL'`  refers to the quality of the equipment the character is using,\n",
    "- `'iLvL%'` refers to the performance of the player relative to players with similar quality of equipment,\n",
    "- `'Active Time'` refers to the percentage of time spend by the character doing damage during the fight.\n",
    "- `'DPS'` refers to the amount of damage done per second in the fight.\n",
    "\n",
    "Your task is to:\n",
    "\n",
    "- Store the contents of the csv file into a list `records` where each element in the list is itself a list where the elements correspond to the `Parse%`,`Name`,`Amount`,`iLvL`,`iLvL%`,`Active Time`,`DPS` values for each line in the csv file.\n",
    "- Create an empty list called `player_name`.\n",
    "- iterate over each element of `records` appending the player names to `player_name`.\n",
    "- Print each name in `player_name` in alphabetical order."
   ]
  },
  {
   "cell_type": "code",
   "execution_count": 3,
   "metadata": {},
   "outputs": [
    {
     "name": "stdout",
     "output_type": "stream",
     "text": [
      "['\"Parse %\",\"Name\",\"Amount\",\"Ilvl\",\"Ilvl %\",\"Active\",\"DPS\",\"\"\\n', '\"97\",\"WÃ´es\",\"11715922$6.32%11.72m\",\"208\",\"82\",\"95.30%\",\"4,857.4\",\"\"\\n', '\"94\",\"Dewgie\",\"10230823$5.52%10.23m\",\"-\",\"57\",\"92.34%\",\"4,241.7\",\"\"\\n', '\"96\",\"Knoxvegas\",\"9624618$5.19%9.62m\",\"206\",\"77\",\"94.72%\",\"3,990.3\",\"\"\\n', '\"92\",\"Avey\",\"9384888$5.06%9.38m\",\"208\",\"54\",\"95.44%\",\"3,890.9\",\"\"\\n', '\"77\",\"Exolaris\",\"8817948$4.76%8.82m\",\"198\",\"75\",\"96.15%\",\"3,655.9\",\"\"\\n', '\"79\",\"Ovy\",\"8789252$4.74%8.79m\",\"-\",\"89\",\"91.45%\",\"3,644.0\",\"\"\\n', '\"77\",\"Biraprie\",\"8684125$4.69%8.68m\",\"-\",\"75\",\"94.53%\",\"3,600.4\",\"\"\\n', '\"88\",\"Kolhito\",\"8320548$4.49%8.32m\",\"-\",\"76\",\"90.10%\",\"3,449.7\",\"\"\\n', '\"67\",\"Fyrebird\",\"8286557$4.47%8.29m\",\"-\",\"80\",\"96.52%\",\"3,435.6\",\"\"\\n', '\"67\",\"Jari\",\"8179735$4.41%8.18m\",\"-\",\"69\",\"94.69%\",\"3,391.3\",\"\"\\n', '\"69\",\"Anothervc\",\"8178271$4.41%8.18m\",\"-\",\"88\",\"91.36%\",\"3,390.7\",\"\"\\n', '\"73\",\"Stormblast\",\"7797837$4.21%7.80m\",\"191\",\"83\",\"88.15%\",\"3,232.9\",\"\"\\n', '\"64\",\"Spooknspell\",\"7772714$4.19%7.77m\",\"189\",\"91\",\"93.02%\",\"3,222.5\",\"\"\\n', '\"59\",\"Plastral\",\"7730604$4.17%7.73m\",\"-\",\"74\",\"95.92%\",\"3,205.1\",\"\"\\n', '\"56\",\"Gdook\",\"7440492$4.01%7.44m\",\"-\",\"77\",\"92.70%\",\"3,084.8\",\"\"\\n', '\"51\",\"Gamheals\",\"7360518$3.97%7.36m\",\"185\",\"87\",\"94.38%\",\"3,051.6\",\"\"\\n', '\"79\",\"Darkietank\",\"6684326$3.61%6.68m\",\"195\",\"84\",\"77.89%\",\"2,771.3\",\"\"\\n', '\"41\",\"NÃ³mi\",\"6651897$3.59%6.65m\",\"190\",\"68\",\"92.02%\",\"2,757.8\",\"\"\\n', '\"75\",\"Masachi\",\"5996489$3.24%6.00m\",\"-\",\"76\",\"70.75%\",\"2,486.1\",\"\"\\n', '\"89\",\"Synesthetix\",\"5931393$3.20%5.93m\",\"204\",\"70\",\"66.95%\",\"2,459.1\",\"\"\\n', '\"79\",\"Chrissinger\",\"4226622$2.28%4.23m\",\"195\",\"82\",\"76.13%\",\"1,752.3\",\"\"\\n', '\"56\",\"Keipra\",\"4182200$2.26%4.18m\",\"205\",\"37\",\"85.85%\",\"1,733.9\",\"\"\\n', '\"36\",\"Makotoase\",\"2458262$1.33%2.46m\",\"195\",\"37\",\"33.08%\",\"1,019.2\",\"\"\\n', '\"63\",\"Pappaslop\",\"1833722$0.99%1.83m\",\"189\",\"91\",\"22.79%\",\"760.3\",\"\"\\n', '\"95\",\"Masakins\",\"1790230$0.97%1.79m\",\"208\",\"78\",\"16.22%\",\"742.2\",\"\"\\n', '\"95\",\"Ericlock\",\"1757080$0.95%1.76m\",\"210\",\"62\",\"16.21%\",\"728.5\",\"\"\\n', '\"96\",\"Paeldryth\",\"1620012$0.87%1.62m\",\"208\",\"75\",\"15.12%\",\"671.6\",\"\"\\n', '\"40\",\"Haloxd\",\"1388971$0.75%1.39m\",\"-\",\"45\",\"76.79%\",\"575.9\",\"\"\\n', '\"78\",\"Revtide\",\"813127$0.44%813.1k\",\"190\",\"81\",\"63.57%\",\"337.1\",\"\"\\n', '\"76\",\"Chrisfumi\",\"700542$0.38%700.5k\",\"210\",\"31\",\"16.21%\",\"290.4\",\"\"\\n', '\"95\",\"Kieu\",\"449285$0.24%449.3k\",\"205\",\"90\",\"14.95%\",\"186.3\",\"\"\\n', '\"74\",\"Lymos\",\"418728$0.23%418.7k\",\"200\",\"70\",\"29.79%\",\"173.6\",\"\"\\n', '\"52\",\"Angers\",\"106321$0.06%106.3k\",\"189\",\"57\",\"5.53%\",\"44.1\",\"\"']\n",
      "['\"Angers\"', '\"Anothervc\"', '\"Avey\"', '\"Biraprie\"', '\"Chrisfumi\"', '\"Chrissinger\"', '\"Darkietank\"', '\"Dewgie\"', '\"Ericlock\"', '\"Exolaris\"', '\"Fyrebird\"', '\"Gamheals\"', '\"Gdook\"', '\"Haloxd\"', '\"Jari\"', '\"Keipra\"', '\"Kieu\"', '\"Knoxvegas\"', '\"Kolhito\"', '\"Lymos\"', '\"Makotoase\"', '\"Masachi\"', '\"Masakins\"', '\"NÃ³mi\"', '\"Ovy\"', '\"Paeldryth\"', '\"Pappaslop\"', '\"Plastral\"', '\"Revtide\"', '\"Spooknspell\"', '\"Stormblast\"', '\"Synesthetix\"', '\"WÃ´es\"']\n"
     ]
    }
   ],
   "source": [
    "#YOUR_CODE_HERE\n",
    "records = []\n",
    "player_name = []\n",
    "with open('log_ex8.csv', 'r') as f:\n",
    "    s = f.readlines()\n",
    "    for i in s:\n",
    "        new = i.split(',')\n",
    "        records.append(new)\n",
    "\n",
    "print(s)\n",
    "\n",
    "for x in records[1:]:   #To remove header\n",
    "    indexnames = 1\n",
    "    player_name.append(x[indexnames])\n",
    "\n",
    "\n",
    "print(sorted(player_name))\n",
    "\n",
    "\n"
   ]
  },
  {
   "cell_type": "markdown",
   "metadata": {},
   "source": [
    "## Exercise 8.6\n",
    "\n",
    "Download the file: https://archive.ics.uci.edu/ml/machine-learning-databases/iris/iris.data\n",
    "\n",
    "Write code to read and store the contents of this comma separated file within a 2D List, $L$, such that $L[i]$ corresponds to the sample entry on the $i$-th line of the file, and $L[i][j]$ corresponds to the $j$-th value of the $i$-th entry.\n",
    "Print the contents of the 2D List to verify that you have stored the contents correctly.\n"
   ]
  },
  {
   "cell_type": "code",
   "execution_count": 57,
   "metadata": {},
   "outputs": [
    {
     "name": "stdout",
     "output_type": "stream",
     "text": [
      "1.4\n"
     ]
    }
   ],
   "source": [
    "#YOUR_CODE_HERE\n",
    "L = []\n",
    "with open('iris.data') as f:\n",
    "    s = f.readlines()\n",
    "    for i in s:\n",
    "        line = i.split(\",\")\n",
    "        line.pop()\n",
    "        L.append(line)\n",
    "\n",
    "print(L[0][2])\n",
    "    \n",
    "    "
   ]
  },
  {
   "cell_type": "markdown",
   "metadata": {},
   "source": [
    "## Exercise 8.7\n",
    "\n",
    "Each line in the file at: http://itu.dk/people/pagh/sad12/primes1000000.txt represents a prime number below 1,000,000.\n",
    " \n",
    "Write a function that uses the above file to test if a given positive integer below 1,000,000 is a prime number. If the given numbers exceeds 1,000,000, then utilise a separate function to calculate if it is a prime. "
   ]
  },
  {
   "cell_type": "code",
   "execution_count": 25,
   "metadata": {},
   "outputs": [
    {
     "name": "stdout",
     "output_type": "stream",
     "text": [
      "True\n"
     ]
    }
   ],
   "source": [
    "#YOUR_CODE_HERE\n",
    "prime = []\n",
    "with open('primes1000000.txt') as p:\n",
    "    s = p.readlines()\n",
    "    for i in s:\n",
    "        prime.append((i.split())[0])\n",
    "\n",
    "def primecheck(n):\n",
    "    if n <= 1000000:\n",
    "        if str(n) in prime:\n",
    "            return True\n",
    "        else:\n",
    "            return False\n",
    "    else:\n",
    "        for i in range(2,n):\n",
    "            if n % i == 0:\n",
    "                return False\n",
    "        return True\n",
    "\n",
    "print(primecheck(311))"
   ]
  },
  {
   "cell_type": "markdown",
   "metadata": {},
   "source": [
    "## Exercise 8.8\n",
    "\n",
    "A mathematical equation $y=f(x)$ can be visualized on a cartesian plane as the set of all the points $(x,y)$ where $y=f(x)$. Write a code that \n",
    "\n",
    "1. generates 100 points that satisfy the equation $y=x^2$ for $-10\\leq x\\leq 10$ (for simplicity, take the uniform spacing for the $x$-values of the points),and\n",
    "2. saves them into a text file named `ex8_8.txt`. Each line in the file is of the form $(x,y)$, \n",
    "3. load the points from `ex8_8.txt` and using the module `matplotlib`, show the plot.\n"
   ]
  },
  {
   "cell_type": "code",
   "execution_count": 26,
   "metadata": {},
   "outputs": [
    {
     "name": "stdout",
     "output_type": "stream",
     "text": [
      "[-10.0, -9.797979797979798, -9.595959595959595, -9.393939393939393, -9.19191919191919, -8.989898989898988, -8.787878787878785, -8.585858585858583, -8.38383838383838, -8.181818181818178, -7.979797979797976, -7.777777777777773, -7.575757575757571, -7.373737373737368, -7.171717171717166, -6.9696969696969635, -6.767676767676761, -6.565656565656559, -6.363636363636356, -6.161616161616154, -5.959595959595951, -5.757575757575749, -5.5555555555555465, -5.353535353535344, -5.151515151515142, -4.949494949494939, -4.747474747474737, -4.545454545454534, -4.343434343434332, -4.1414141414141294, -3.9393939393939275, -3.7373737373737255, -3.5353535353535235, -3.3333333333333215, -3.1313131313131195, -2.9292929292929175, -2.7272727272727155, -2.5252525252525135, -2.3232323232323115, -2.1212121212121096, -1.9191919191919076, -1.7171717171717056, -1.5151515151515036, -1.3131313131313016, -1.1111111111110996, -0.9090909090908976, -0.7070707070706956, -0.5050505050504936, -0.30303030303029166, -0.10101010101008964, 0.10101010101011237, 0.3030303030303144, 0.5050505050505164, 0.7070707070707184, 0.9090909090909204, 1.1111111111111225, 1.3131313131313245, 1.5151515151515265, 1.7171717171717285, 1.9191919191919304, 2.1212121212121327, 2.3232323232323346, 2.5252525252525366, 2.7272727272727386, 2.9292929292929406, 3.1313131313131426, 3.3333333333333446, 3.5353535353535466, 3.7373737373737486, 3.9393939393939505, 4.1414141414141525, 4.343434343434355, 4.545454545454557, 4.74747474747476, 4.949494949494962, 5.151515151515165, 5.353535353535367, 5.55555555555557, 5.757575757575772, 5.959595959595974, 6.161616161616177, 6.363636363636379, 6.565656565656582, 6.767676767676784, 6.969696969696987, 7.171717171717189, 7.3737373737373915, 7.575757575757594, 7.777777777777796, 7.979797979797999, 8.181818181818201, 8.383838383838404, 8.585858585858606, 8.787878787878808, 8.989898989899011, 9.191919191919213, 9.393939393939416, 9.595959595959618, 9.79797979797982, 10.000000000000023]\n",
      "[100.0, 96.00040812162024, 92.08244056728904, 88.2460973370064, 84.49137843077234, 80.81828384858684, 77.22681359044991, 73.71696765636155, 70.28874604632175, 66.94214876033051, 63.67717579838786, 60.49382716049376, 57.39210284664823, 54.37200285685126, 51.43352719110287, 48.57667584940304, 45.80144883175177, 43.10784613814908, 40.49586776859495, 37.96551372308939, 35.51678400163239, 33.14967860422396, 30.864197530864097, 28.6603407815528, 26.538108356290074, 24.49750025507591, 22.538516477910317, 20.661157024793287, 18.865421895724825, 17.15131109070493, 15.518824609733606, 13.967962452810848, 12.498724619936658, 11.111111111111033, 9.805121926333973, 8.580757065605482, 7.438016528925556, 6.376900316294196, 5.397408427711404, 4.499540863177177, 3.6832976226915175, 2.948678706254424, 2.295684113865897, 1.7243138455259364, 1.2345679012345423, 0.8264462809917147, 0.4999489847974535, 0.2550760126517587, 0.09182736455463039, 0.010203040506068512, 0.010203040506073105, 0.09182736455464419, 0.2550760126517817, 0.4999489847974857, 0.8264462809917561, 1.2345679012345931, 1.7243138455259965, 2.2956841138659665, 2.9486787062545026, 3.6832976226916054, 4.499540863177275, 5.397408427711511, 6.376900316294313, 7.438016528925682, 8.580757065605617, 9.805121926334118, 11.111111111111185, 12.498724619936821, 13.96796245281102, 15.51882460973379, 17.15131109070512, 18.865421895725028, 20.661157024793496, 22.538516477910534, 24.49750025507614, 26.53810835629031, 28.66034078155305, 30.864197530864352, 33.14967860422423, 35.516784001632665, 37.96551372308967, 40.49586776859524, 43.10784613814938, 45.80144883175208, 48.57667584940336, 51.433527191103195, 54.3720028568516, 57.39210284664858, 60.493827160494114, 63.67717579838822, 66.9421487603309, 70.28874604632213, 73.71696765636194, 77.22681359045032, 80.81828384858726, 84.49137843077277, 88.24609733700684, 92.08244056728948, 96.0004081216207, 100.00000000000047]\n"
     ]
    },
    {
     "data": {
      "image/png": "[encoded data removed]",
      "text/plain": [
       "<Figure size 640x480 with 1 Axes>"
      ]
     },
     "metadata": {},
     "output_type": "display_data"
    }
   ],
   "source": [
    "#YOUR_CODE_HERE\n",
    "from matplotlib import pyplot as plt\n",
    "import csv\n",
    "\n",
    "xmin = -10\n",
    "xmax = 10\n",
    "spacing = (xmax - xmin) / 99   #Uniform spacing of 100 points\n",
    "xcoords = []\n",
    "ycoords = []\n",
    "\n",
    "with open('ex8_8.text','w') as f:\n",
    "    for i in range(100):\n",
    "        f.write(f'{xmin},{xmin**2}' + '\\n')\n",
    "        xmin += spacing\n",
    "\n",
    "with open('ex8_8.text') as f:\n",
    "    reader = csv.reader(f)\n",
    "    for row in reader:\n",
    "        xcoords.append(float(row[0]))\n",
    "        ycoords.append(float(row[1]))\n",
    "        \n",
    "print(xcoords)\n",
    "print(ycoords)\n",
    "plt.plot(xcoords,ycoords)\n",
    "plt.show()\n",
    "\n"
   ]
  },
  {
   "cell_type": "markdown",
   "metadata": {},
   "source": [
    "## Exercise 8.9\n",
    "\n",
    "A text file, `NOI_24_RESULT.txt` contains the results of the medallist recipients for the 24th National Olympiad in Informatics.\n",
    "\n",
    "Write a code to:\n",
    "\n",
    "- read the data from the text file,\n",
    "- store the school name and medal counts in a Python dictionary `medal_count` where the school name is the key and the associated value is a tuple of the form `(GOLD, SILVER, BRONZE)`,\n",
    "- print out the top 5 school with the highest number of medals won, regardless of the medal type. "
   ]
  },
  {
   "cell_type": "code",
   "execution_count": 82,
   "metadata": {},
   "outputs": [
    {
     "name": "stdout",
     "output_type": "stream",
     "text": [
      "{' NUS High School Of Mathematics And Science': (4, 5, 1), ' Raffles Institution': (4, 6, 0), ' Hwa Chong Institution': (5, 5, 0), ' National Junior College': (1, 3, 0), ' United World College South East Asia Dover Campus': (1, 6, 1), ' Manjusri Secondary School': (1, 0, 0), ' Singapore American School': (0, 4, 0), ' DPS International School': (0, 1, 0), ' Anderson Serangoon Junior College': (0, 2, 1), ' Anglo-Chinese School Independent': (0, 3, 2), ' Yishun Innova Junior College': (0, 1, 0), \" CHIJ St. Nicholas Girls' School\": (0, 1, 0), ' Dunman High School': (0, 3, 1), \" Methodist Girls' School Secondary\": (0, 1, 0), ' Anglo-Chinese Junior College': (0, 2, 0), ' Catholic High School': (0, 1, 0), ' River Valley High School': (0, 4, 0), \" Raffles Girls' School Secondary\": (0, 1, 1), ' Nanyang Junior College': (0, 2, 0), ' Anderson Secondary School': (0, 2, 0), ' Bukit Panjang Govt. High School': (0, 1, 0), ' Tampines Meridian Junior College': (0, 1, 0), ' Ngee Ann Secondary School': (0, 2, 0), ' Global Indian International School': (0, 1, 1), \" St. Joseph's Institution\": (0, 2, 1), ' Swiss Cottage Secondary School': (0, 1, 0), ' Clementi Town Secondary School': (0, 0, 1), ' Commonwealth Secondary School': (0, 0, 2), ' Victoria School': (0, 0, 1), ' Singapore': (0, 0, 1), ' Hwa Chong International School': (0, 0, 1), ' Temasek Junior College': (0, 0, 2)}\n",
      "1. NUS High School Of Mathematics And Science\n",
      "2. Raffles Institution\n",
      "3. Hwa Chong Institution\n",
      "4. United World College South East Asia Dover Campus\n",
      "5. Anglo-Chinese School Independent\n"
     ]
    }
   ],
   "source": [
    "#YOUR_CODE_HERE\n",
    "import csv\n",
    "\n",
    "awards = ['Gold', 'Silver', 'Bronze']\n",
    "index = -1   #Default no index\n",
    "exception = []\n",
    "medalcounter = []    #Sorted based on the order of list 'exception'\n",
    "\n",
    "medal_count = {}\n",
    "\n",
    "with open('NOI_24_RESULT.csv') as n:\n",
    "    reader = csv.reader(n)\n",
    "    for row in reader:\n",
    "        if row == []:   #Guard case one - The blank list\n",
    "            pass\n",
    "        elif row[0] in awards:   #Guard case two - Medal list\n",
    "            index += 1\n",
    "        elif row[-1] in exception:\n",
    "            medalcounter[exception.index(row[-1])][index] += 1\n",
    "        else:\n",
    "            exception.append(row[-1])\n",
    "            medalcounter.append([0,0,0])\n",
    "            medalcounter[exception.index(row[-1])][index] += 1\n",
    "\n",
    "for i in range(len(exception)):\n",
    "    medal_count[exception[i]] = tuple(medalcounter[i])\n",
    "\n",
    "print(medal_count)\n",
    "\n",
    "#Part b) Top 5 schools with medals\n",
    "summc = []\n",
    "top = []\n",
    "for i in medalcounter:\n",
    "    summc.append(sum(i))\n",
    "for x in range(5):\n",
    "    indexsum = summc.index(max(summc))\n",
    "    top.append(exception[indexsum])\n",
    "    exception.pop(indexsum)\n",
    "    summc.pop(indexsum)\n",
    "\n",
    "for s in range(len(top)):\n",
    "    print(str(s+1) + \".\" + top[s])\n"
   ]
  },
  {
   "attachments": {},
   "cell_type": "markdown",
   "metadata": {},
   "source": [
    "## Exercise 8.10\n",
    "\n",
    "A text file, `MARKET_PRICES.TXT`, contains the in-game prices for 6 items, Widowbloom, Rising Glory, Marrowroot, Vigil's Torch, Nighshade and Spectral Flask of Power from 1 December 2020 to 3 March 2021. Each line contains tab-delimited data that shows the date and the prices (in copper coins) of the 6 items.\n",
    "\n",
    "Each line is in the format:\n",
    "\n",
    "    `YYYY-MM-DD\\tWIDOWBLOOM\\tRISING_GLORY\\t\\MARROWROOT\\tVIGILS_TORCH\\tNIGHTSHADE\\tSPECTRAL_FLASK_OF_POWER\\n`\n",
    "\n",
    "- The date is of the form `YYYY-MM-DD`, for example, `2020-12-03` is 3rd December, 2020.\n",
    "- WIDOWBLOOM, RISING_GLORY, MARROWROOT, VIGILS_TORCH, NIGHTSHADE, SPECTRAL_FLASK_OF_POWER are all integers.\n",
    "- `\\t` represents the tab character\n",
    "- `\\n` represents the newline character\n",
    "\n",
    "The text file is stored in ascending order of date and time.\n",
    "\n",
    "### Task 1 \n",
    "\n",
    "Write a program to:\n",
    "\n",
    "- read the price data from the text file,\n",
    "- for each of the 6 items:\n",
    "    - find the highest price and print this value,\n",
    "    - find the lowest price and print this value.\n",
    "\n",
    "### Task 2\n",
    "\n",
    "Suppose you want to play the market by buying and selling the 6 items above, one way to decide on items to invest in is by using the mean and variance of the daily rate of returns of the items. The latter is used to quantify the risk of holding such item.\n",
    "\n",
    "For an item $j$, \n",
    "- the **daily rate of return** of day $i$ to $i+1$, denoted as $r_i$ is defined to be $$r_i=\\frac{p_{i+1}-p_{i}}{p_i},$$ where $p_{i+1}$ and $p_i$ are prices of the item on day $i+1$ and day $i$ respectively,\n",
    "- the mean of the daily rate of returns, denoted as $\\overline{r}$, is just $\\frac{\\sum r_i}{n}$, where $n$ is the number of daily rate of returns recorded,\n",
    "- the variance of the daily rate of returns is $$\\frac{\\sum{(r_i-\\overline{r})^2}}{n},$$ where $\\overline{r}$ is the mean of the daily rate of returns and again $n$ is the number of daily returns recorded.\n",
    "\n",
    "Write a program to:\n",
    "\n",
    "- for each of the 6 items:\n",
    "    - find the mean of the daily rate of return,\n",
    "    - find the variance of the daily rate of return."
   ]
  },
  {
   "cell_type": "code",
   "execution_count": 26,
   "metadata": {},
   "outputs": [
    {
     "name": "stdout",
     "output_type": "stream",
     "text": [
      "widowbloom_price--> Highest: 14031 and Lowest: 3214\n",
      "risingglory_price--> Highest: 7679 and Lowest: 2000\n",
      "marrowroot_price--> Highest: 8677 and Lowest: 2402\n",
      "vigilstorch_price--> Highest: 10086 and Lowest: 1720\n",
      "nightshade_price--> Highest: 17227 and Lowest: 3214\n",
      "flask_price--> Highest: 206537 and Lowest: 62927\n",
      "\n",
      "\n",
      "Meandrr of widowbloom_price is -0.0010376444950616003\n",
      "Variancedrr of widowbloom_price is 0.022837016720083873 \n",
      "\n",
      "Meandrr of risingglory_price is 0.016867301821187106\n",
      "Variancedrr of risingglory_price is 0.03619999248276221 \n",
      "\n",
      "Meandrr of marrowroot_price is 0.005044440183475772\n",
      "Variancedrr of marrowroot_price is 0.035627646580714066 \n",
      "\n",
      "Meandrr of vigilstorch_price is 0.0029710559563444097\n",
      "Variancedrr of vigilstorch_price is 0.027762880221427984 \n",
      "\n",
      "Meandrr of nightshade_price is -0.005919992740149757\n",
      "Variancedrr of nightshade_price is 0.017598279761829583 \n",
      "\n",
      "Meandrr of flask_price is -0.007741258889054319\n",
      "Variancedrr of flask_price is 0.004586176455299762 \n",
      "\n"
     ]
    }
   ],
   "source": [
    "#YOUR_CODE_HERE\n",
    "import csv\n",
    "\n",
    "#Task 1\n",
    "itemprices = [[],[],[],[],[],[]]\n",
    "itemname = []\n",
    "\n",
    "#Task 2\n",
    "def drr(itemindex,day):  #Where day >= 1\n",
    "    return (itemprices[itemindex][day] - itemprices[itemindex][day-1]) / itemprices[itemindex][day-1]   #Return formulaa calculation\n",
    "\n",
    "def mrr(itemindex,days):     #Where days >= 1\n",
    "    totaldrr = 0\n",
    "    record = 0\n",
    "    for i in range(1, days + 1):    #Start from day 1 to calculate\n",
    "        totaldrr += drr(itemindex,i)\n",
    "        record += 1\n",
    "    return totaldrr / record\n",
    "\n",
    "def vrr(itemindex,days):\n",
    "    totalrr = 0\n",
    "    record = 0\n",
    "    for i in range(1,days+1): \n",
    "        totalrr += (drr(itemindex,i) - mrr(itemindex,days))**2\n",
    "        record += 1\n",
    "    return totalrr / record\n",
    "\n",
    "with open('MARKET_PRICES.txt') as m:\n",
    "    reader = csv.reader(m, delimiter=\"\\t\")\n",
    "    #Elements 2 to 7 are the item prices\n",
    "    for row in reader:\n",
    "        for i in range(1,7):\n",
    "            if row[i].isdigit():\n",
    "                itemprices[i-1].append(int(row[i]))\n",
    "            else:\n",
    "                itemname.append(row[i])\n",
    "    for x in range(len(itemprices)):\n",
    "        print(f'{itemname[x]}--> Highest: {max(itemprices[x])} and Lowest: {min(itemprices[x])}')\n",
    "    #For task 2\n",
    "    print('\\n')\n",
    "    for n in range(len(itemprices)):\n",
    "        print(f'Meandrr of {itemname[n]} is {mrr(n,92)}')\n",
    "        print(f'Variancedrr of {itemname[n]} is {vrr(n,92)} \\n')\n",
    "\n",
    "\n",
    "\n",
    "\n",
    "\n",
    "\n",
    "            "
   ]
  }
 ],
 "metadata": {
  "kernelspec": {
   "display_name": "Python 3",
   "language": "python",
   "name": "python3"
  },
  "language_info": {
   "codemirror_mode": {
    "name": "ipython",
    "version": 3
   },
   "file_extension": ".py",
   "mimetype": "text/x-python",
   "name": "python",
   "nbconvert_exporter": "python",
   "pygments_lexer": "ipython3",
   "version": "3.10.10"
  },
  "vscode": {
   "interpreter": {
    "hash": "a42ccb73e7d9bfdf27e036f1d2b8b681e55fc0743cc5586bc2474d4a60f4b886"
   }
  }
 },
 "nbformat": 4,
 "nbformat_minor": 2
}
