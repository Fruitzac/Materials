{
 "cells": [
  {
   "attachments": {},
   "cell_type": "markdown",
   "metadata": {},
   "source": [
    "# Exercise 13\n",
    "\n",
    "Related Notes:\n",
    "- Chapter_08_Algorithmic_Representation\n",
    "\n",
    "[![Open In Colab](https://colab.research.google.com/assets/colab-badge.svg)](https://colab.research.google.com/github/njc-cz2-2021/Materials/blob/main/Exercises/Exercise-13-Algorithm-Representation.ipynb) "
   ]
  },
  {
   "attachments": {},
   "cell_type": "markdown",
   "metadata": {},
   "source": [
    "## Exercise 13.1\n",
    "\n",
    "The following algorithm inputs two integer numbers and outputs all the integers from the first number to the last number.\n",
    ">```\n",
    "> INPUT FirstNumber\n",
    "> INPUT LastNumber\n",
    "> FOR Number ← FirstNumber TO SecondNumber\n",
    ">   OUTPUT Number\n",
    ">   ENDFOR Number\n",
    ">```\n",
    "\n",
    "1. Rewrite this algorithm in pseudocode using \n",
    "    - a `WHILE-ENDWHILE` loop,\n",
    "    - a `REPEAT-UNTIL` loop,\n",
    "2. Implement your pseudocode in Python."
   ]
  },
  {
   "attachments": {},
   "cell_type": "markdown",
   "metadata": {},
   "source": [
    "Question 1.\n",
    " INPUT FirstNumber\n",
    " INPUT LastNumber\n",
    " WHILE FirstNumber <> LastNumber\n",
    "    OUTPUT FirstNumber\n",
    "    FirstNumber <- Firstnumber + 1\n",
    " ENDWHILE\n",
    "\n",
    "---------------------------------------------------\n",
    " INPUT FirstNumber\n",
    " INPUT LastNumber\n",
    " REPEAT\n",
    "     OUTPUT FirstNumber\n",
    "     FirstNumber <- FirstNumber + 1\n",
    " UNTIL FirstNumber = LastNumber"
   ]
  },
  {
   "cell_type": "code",
   "execution_count": 3,
   "metadata": {},
   "outputs": [
    {
     "name": "stdout",
     "output_type": "stream",
     "text": [
      "4\n",
      "5\n",
      "6\n",
      "7\n",
      "8\n",
      "9\n",
      "10\n"
     ]
    }
   ],
   "source": [
    "#Question 2\n",
    "FirstNumber = int(input(\"FirstNumber:\"))\n",
    "LastNumber = int(input(\"LastNumber:\"))\n",
    "while FirstNumber != LastNumber + 1:\n",
    "    print(FirstNumber)\n",
    "    FirstNumber += 1\n"
   ]
  },
  {
   "attachments": {},
   "cell_type": "markdown",
   "metadata": {},
   "source": [
    "## Exercise 13.2\n",
    "\n",
    "An algorithm is required to ask the user to input a number.\n",
    "If the number is zero, stop.\n",
    "If the number is positive, output the number.\n",
    "If the number is negative, square the number, and output the square and square root of the answer.\n",
    "\n",
    "1. Write the algorithm in pseudocode.\n",
    "2. Draw the flowchart of the algorithm.\n",
    "3. Implement the algorithm in Python."
   ]
  },
  {
   "attachments": {},
   "cell_type": "markdown",
   "metadata": {},
   "source": [
    "Question 1.\n",
    " INPUT Number\n",
    " IF Number = 0\n",
    "    THEN\n",
    "        //pass\n",
    "    ELSE\n",
    "        IF Number > 0\n",
    "            THEN\n",
    "                OUTPUT Number\n",
    "            ELSE\n",
    "                DECLARE Squared : Integer\n",
    "                Squared <- Number*Number\n",
    "                //Assume Square root of answer can be +ve or -ve\n",
    "                OUTPUT Squared , Number \n",
    "        ENDIF\n",
    " ENDIF\n",
    "        "
   ]
  },
  {
   "attachments": {},
   "cell_type": "markdown",
   "metadata": {},
   "source": [
    "Question 2. <br></br>\n",
    "<image src=\"Flowchart.png\">"
   ]
  },
  {
   "cell_type": "code",
   "execution_count": 6,
   "metadata": {},
   "outputs": [],
   "source": [
    "#Question 3\n",
    "Number = int(input(\"Number: \"))\n",
    "if Number == 0:\n",
    "    pass\n",
    "else:\n",
    "    if Number > 0:\n",
    "        print(Number)\n",
    "    else:\n",
    "        Squared = Number**2\n",
    "        print(Squared, Number)   #Assume square root is negative\n"
   ]
  },
  {
   "attachments": {},
   "cell_type": "markdown",
   "metadata": {},
   "source": [
    "## Exercise 13.3\n",
    "\n",
    "Study the following algorithm.\n",
    "\n",
    ">```\n",
    ">FUNCTION Mystery(m, n)\n",
    ">   r ← m – INT(m / n) * n\n",
    ">   IF r = 0\n",
    ">   THEN\n",
    ">       RETURN n\n",
    ">   ELSE\n",
    ">       RETURN Mystery(n, r)\n",
    ">   ENDIF\n",
    ">ENDFUNCTION\n",
    ">```\n",
    "\n",
    "`INT(Number)` returns the integer part of the parameter, `Number`. For example, `INT(4.2)` returns `4` and `INT(5.8)` returns 5.\n",
    "The function `Mystery` is called with\n",
    "\n",
    "> CALL Mystery(69,12)\n",
    "\n",
    "1. Produce a diagram that traces each step of the algorithm and the function calls. \n",
    "2. Implement the algorithm in Python."
   ]
  },
  {
   "attachments": {},
   "cell_type": "markdown",
   "metadata": {},
   "source": [
    ">Question 1.\n",
    ">```\n",
    ">| Function Call | m | n | r | OUTPUT |\n",
    ">|  1            | 69| 12|   |        | \n",
    ">|               |   |   | 9 |        |\n",
    ">|  2            | 12| 9 |   |        |\n",
    ">|               |   |   | 3 |        | \n",
    ">|  3            | 9 | 3 |   |        | \n",
    ">|               |   |   |  0|        |\n",
    ">|               |   |   |   |   3    | \n",
    "\n"
   ]
  },
  {
   "cell_type": "code",
   "execution_count": 10,
   "metadata": {},
   "outputs": [
    {
     "name": "stdout",
     "output_type": "stream",
     "text": [
      "3\n"
     ]
    }
   ],
   "source": [
    "#Question 2 \n",
    "def mystery(m,n):\n",
    "    r = m - (m//n) * n\n",
    "    if r == 0:\n",
    "        return n\n",
    "    else:\n",
    "        return mystery(n,r)\n",
    "\n",
    "print(mystery(69,12))"
   ]
  },
  {
   "attachments": {},
   "cell_type": "markdown",
   "metadata": {},
   "source": [
    "## Exercise 13.4 2019/A Level/P1/Q5 H2 Computing (Modified)\n",
    "\n",
    "The function `z` takes three integer parameters, `low`, `high`, `seek` and returns an integer value. It operates on the values in the elements of the array `A`.\n",
    "\n",
    ">```PSEUDOCODE\n",
    ">FUNCTION Z(low, high, seek, A) RETURNS INTEGER\n",
    ">    IF low > high THEN\n",
    ">        RETURN -1\n",
    ">   ENDIF\n",
    ">    mid ← low + INT((high-low)/2)\n",
    ">    IF seek = A[mid] THEN\n",
    ">        RETURN mid\n",
    ">    ELSE    \n",
    ">       IF seek < A[mid] THEN\n",
    ">            RETURN Z(low, mid-1, seek, A)\n",
    ">        ELSE\n",
    ">            RETURN Z(mid+1, high, seek, A)\n",
    ">        ENDIF\n",
    ">    ENDIF\n",
    ">ENDFUNCTION\n",
    "```"
   ]
  },
  {
   "attachments": {},
   "cell_type": "markdown",
   "metadata": {},
   "source": [
    "1. State what lines `10` and `12` tell you about the function.\n",
    "2. State the purpose for the `RETURN` statements in lines `03` and `07` of function z.\n",
    "\n",
    "The values in each of the eight elements of the array `A` are:\n",
    ">```\n",
    ">| Element | 0  | 1 | 2  | 3  | 4  | 5   | 6   | 7   |\n",
    ">|---------|----|---|----|----|----|-----|-----|-----|\n",
    ">| Value   | -3 | 8 | 14 | 15 | 96 | 101 | 412 | 500 |\n",
    ">```\n",
    "\n",
    "3. Copy and then complete the trace table for the instruction:\n",
    "> OUTPUT Z(0, 7, 103, A)\n",
    ">```\n",
    ">| Function call | low | high | seek | mid | A[mid] | OUTPUT |\n",
    ">|---------------|-----|------|------|-----|--------|--------|\n",
    ">| 1             | 0   | 7    | 103  |     |        |        |\n",
    ">|               |     |      |      |     |        |        |\n",
    ">|               |     |      |      |     |        |        |\n",
    ">|               |     |      |      |     |        |        |\n",
    ">|               |     |      |      |     |        |        |\n",
    ">|               |     |      |      |     |        |        |\n",
    ">```\n",
    "\n",
    "4. Function `z` can return **two** different types of value. Explain what these represent."
   ]
  },
  {
   "attachments": {},
   "cell_type": "markdown",
   "metadata": {},
   "source": [
    "Question 1. <br></br>\n",
    "Lines 10 and 12 tell us that the function is recursive\n",
    "\n",
    "Question 2. <br></br>\n",
    "The RETURN statements end the recursive function (Base case)\n",
    "\n",
    "Question 3.\n",
    ">```\n",
    ">| Function call | low | high | seek | mid | A[mid] | OUTPUT |\n",
    ">|---------------|-----|------|------|-----|--------|--------|\n",
    ">| 1             | 0   | 7    | 103  |     |        |        |\n",
    ">|               |     |      |      |  3  |        |        |\n",
    ">|               |     |      |      |     |   15   |        |\n",
    ">| 2             | 4   | 7    | 103  |     |        |        |\n",
    ">|               |     |      |      |  5  |        |        |\n",
    ">|               |     |      |      |     |   101  |        |\n",
    ">| 3             | 6   | 7    | 103  |     |        |        |\n",
    ">|               |     |      |      |  6  |        |        |\n",
    ">|               |     |      |      |     |   412  |        |\n",
    ">| 4             | 7   | 7    | 103  |     |        |        |\n",
    ">|               |     |      |      |  7  |        |        |\n",
    ">|               |     |      |      |     |   500  |        |\n",
    ">| 5             | 8   | 7    | 103  |     |        |        |\n",
    ">|               |     |      |      |     |        |   -1   |\n",
    ">```\n",
    "\n",
    "Question 4. <br></br>\n",
    "The goal of the function is to search for a number in the array A\n",
    "If the value is found in A, the index of the number in the array is returned (mid)\n",
    "If the value is not found in A, the function returns -1"
   ]
  },
  {
   "cell_type": "code",
   "execution_count": null,
   "metadata": {},
   "outputs": [],
   "source": [
    "#YOUR ANSWER HERE"
   ]
  },
  {
   "attachments": {},
   "cell_type": "markdown",
   "metadata": {},
   "source": [
    "## Exercise 13.5 2018/A Level/P1/Q2 H2 Computing\n",
    "\n",
    "The following algorithm calculates the average mark for a group of students.\n",
    "\n",
    ">```PSEUDOCODE\n",
    ">FOR Counter ← 1 TO NumberOfStudents\n",
    ">    Total ← 0\n",
    ">    INPUT Mark\n",
    ">    Total ← Total + Mark\n",
    ">ENDFOR\n",
    ">AVERAGE ← Total / NumberOfStudents\n",
    ">OUTPUT Average\n",
    "```"
   ]
  },
  {
   "attachments": {},
   "cell_type": "markdown",
   "metadata": {},
   "source": [
    "1. There is an error in this algorithm causing an incorrect result. Describe the error and explain the chage required to correct this error. \n",
    "2. State the name of this type of error.\n",
    "3. The lowest mark in the exam is 0 and the highest is 100. Give an example from each of the appropriate test cases which could be used to test the algorithm.\n",
    "4. Name and describe a suitable technique that could be used to manually identify errors in the algorithm."
   ]
  },
  {
   "attachments": {},
   "cell_type": "markdown",
   "metadata": {},
   "source": [
    "Question 1. <br></br>\n",
    "Everytime the for loop is runned, the total (marks) is constantly resetted to 0, thus not \n",
    "accumulating the total marks for all students.\n",
    "\n",
    "Question 2. <br></br>\n",
    "Logic Error\n",
    "\n",
    "Question 3. <br></br>\n",
    ">```\n",
    ">Normal -> 50  (basically anything between 1 to 99)\n",
    ">Boundary -> 0 (either 0 or 100)\n",
    ">Error ->  101 (<0, >100, Not numbers, etc)\n",
    "\n",
    "Question 4.\n",
    "Tracetable for debugging (Identifying where the error occurs at what line)"
   ]
  },
  {
   "cell_type": "code",
   "execution_count": null,
   "metadata": {},
   "outputs": [],
   "source": [
    "#YOUR ANSWER HERE"
   ]
  },
  {
   "attachments": {},
   "cell_type": "markdown",
   "metadata": {},
   "source": [
    "## Exercise 13.6 2018/NJC Prelim/P1/Q3 H2 Computing\n",
    "\n",
    "The following is a recursive function\n",
    "\n",
    ">```PSEUDOCODE\n",
    ">FUNCTION f(INTEGER a, INTEGER b)\n",
    ">    IF b = 0 THEN\n",
    ">        RETURN 1\n",
    ">    ELSE IF b = 1 THEN\n",
    ">        RETURN a\n",
    ">    ENDIF\n",
    ">    x ← f(a, b DIV 2)\n",
    ">    IF (b MOD 2) = 0 THEN\n",
    ">        RETURN x * x\n",
    ">    ELSE\n",
    ">        RETURN x * a * x\n",
    ">    ENDIF\n",
    ">ENDFUNCTION\n",
    ">```"
   ]
  },
  {
   "attachments": {},
   "cell_type": "markdown",
   "metadata": {},
   "source": [
    "1.\tUsing the above function as an example, define recursion.\n",
    "2.\tPerform a dry-run of the above function using the call `f(3, 4)`. Show the resultant \ttrace tree.\n",
    "3.\tState the purpose of the specified function.\n",
    "4.\tIdentify one flaw in the above algorithm, and explain how this flaw may be addressed.\n",
    "5.\tDraw a flowchart depicting an iterative version of the specified function."
   ]
  },
  {
   "attachments": {},
   "cell_type": "markdown",
   "metadata": {},
   "source": [
    "Question 1. <br></br>\n",
    "Recursion is a function that calls itself and only outputs when a base case is satisfied\n",
    "(Recursion describes the ability of a routine to call itself)\n",
    "\n",
    "Question 2. <br></br>\n",
    ">```\n",
    ">| Function call | a | b |    x   | OUTPUT |\n",
    ">|---------------|---|---|--------|--------|\n",
    ">|     1         | 3 | 4 |        |        |\n",
    ">|               |   |   | f(3,2) |        |\n",
    ">|     2         | 3 | 2 |        |        |\n",
    ">|               |   |   | f(3,1) |        |\n",
    ">|     3         | 3 | 1 |        |        |\n",
    ">|     2         |   |   |   3    |        |\n",
    ">|     1         |   |   |   9    |        |\n",
    ">|               |   |   |        |   81   |\n",
    ">|               |   |   |        |        |\n",
    "\n",
    "Question 3. <br></br>\n",
    "The purpose of this algorithm is to obtain the number powered to a certain number. \n",
    "(i.e. a ^ b)\n",
    "\n",
    "Question 4. <br></br>\n",
    "If integer b is negative, the function will run infinitely.\n",
    "Thus, a guard case should be added to validate against negative values. (OR alter code to include negative power)\n",
    "\n"
   ]
  },
  {
   "attachments": {},
   "cell_type": "markdown",
   "metadata": {},
   "source": [
    "Question 5. <br></br>\n",
    "<image src=\"flowchart2.png\">"
   ]
  },
  {
   "cell_type": "code",
   "execution_count": null,
   "metadata": {},
   "outputs": [],
   "source": [
    "#YOUR CODE HERE"
   ]
  }
 ],
 "metadata": {
  "kernelspec": {
   "display_name": "Python 3",
   "language": "python",
   "name": "python3"
  },
  "language_info": {
   "codemirror_mode": {
    "name": "ipython",
    "version": 3
   },
   "file_extension": ".py",
   "mimetype": "text/x-python",
   "name": "python",
   "nbconvert_exporter": "python",
   "pygments_lexer": "ipython3",
   "version": "3.10.10"
  },
  "vscode": {
   "interpreter": {
    "hash": "a42ccb73e7d9bfdf27e036f1d2b8b681e55fc0743cc5586bc2474d4a60f4b886"
   }
  }
 },
 "nbformat": 4,
 "nbformat_minor": 2
}
