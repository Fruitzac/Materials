{
 "cells": [
  {
   "attachments": {},
   "cell_type": "markdown",
   "metadata": {},
   "source": [
    "# Exercise 10\n",
    "\n",
    "Related Notes:\n",
    "- Chapter_07_HTML_And_CSS"
   ]
  },
  {
   "attachments": {},
   "cell_type": "markdown",
   "metadata": {},
   "source": [
    "## Exercise 10.1\n",
    "\n",
    "1. Describe the hierarchical structure of a html document.\n",
    "\n",
    "2. What do the terms markup and markdown means in the context of web formatting content?\n",
    "\n",
    "3. What information or instruction do you put in the `<head>` element of a html document and how are they used?\n",
    "\n",
    "4. How are the following HTML terms related?\n",
    "    - element\n",
    "    - tag\n",
    "    - attribute\n"
   ]
  },
  {
   "attachments": {},
   "cell_type": "markdown",
   "metadata": {},
   "source": [
    "Notes:\n",
    "CSS configures styling, HTML configures content  \n",
    "JavaScript configures interactivity (Not in syllabus)\n",
    "<br/><br/>\n",
    "(get) method --> Puts the inputs in the URL (People can just see the inputs from the same screen,  \n",
    "Risk of invasion of privacy for password inputs, etc)  \n",
    "(post) method --> Hides the inputs in the URL   (Secretly transmit info i.e.)  \n",
    "<br/><br/>\n",
    "Native app --> Installation required, built for the device == Faster  \n",
    "Web app --> No installation needed, requires web server (Runs on the server)== Slower\n",
    "Web server goal --> Take from DATABASE, sends to Web app (Table, Page)  \n",
    "<br/><br/>\n",
    "When running a web app on Jupyter notebook, use (debug = false)  \n",
    "<br/><br/>\n",
    "Errors:  \n",
    "403 --> FORBIDDEN = Restricted  \n",
    "404 --> NOT FOUND  \n",
    "410 --> GONE = ??  (Not common)  \n",
    "500 --> Internal Server Error = The backend code has an error  \n",
    "<br/><br/>\n",
    "<br/><br/>\n",
    "What is render_template:  \n",
    "returns HTML pages referred to  \n",
    "Also passes information to HTML pages, e.g. Variables (can be used in HTML page)  \n"
   ]
  },
  {
   "attachments": {},
   "cell_type": "markdown",
   "metadata": {},
   "source": [
    "1. `<html>` element that stands on top,  \n",
    "   `<head>` element that follows (contains `<title>`)  \n",
    "   `<body>` element that contains (tables, paragraphs,etc)  \n",
    "--> Hierarchy of elements (Easy to track), know the elements, subelements, etc  \n",
    "--> Has a tree structure  \n",
    "<br/><br/>\n",
    "2. mark-up is the adding of annotations in the text that allows the editor to produce the final version  \n",
    "   mark-down is to simplify the code in order to make it as readable as possible (Opposite of markup)\n",
    "<br/><br/>\n",
    "3. `<head>` element contains machine readable blocks that is meant to be included in the\n",
    "html but is not DIRECTLY displayed. E.g. Scripts, mark-ups, CSS styling, etc\n",
    "<br/><br/>\n",
    "4. Element --> Part of a webpage, contains data item or a chunk of text or an image or none  \n",
    ">Tag:  \n",
    "> > Opening Tag --> Name of the element, marks where the element begins to take effect  \n",
    "> > Closing Tag --> Marks when the element ends, needs to be present to close the element  \n",
    "Attribute -->  Extends an element, changing its behaviour or providing metadata, contains\n",
    "extra information about the element that does not appear in the content \n",
    "(Kind of like Minecraft commands extension, ID's, Enchantments, attributes,etc)"
   ]
  },
  {
   "attachments": {},
   "cell_type": "markdown",
   "metadata": {},
   "source": [
    "## Exercise 10.2\n",
    "\n",
    "Using the developer tools from Chrome, examine the source of a web page from a news website or a post from a social media website. Attempt to edit the web page to create a fake news."
   ]
  },
  {
   "attachments": {},
   "cell_type": "markdown",
   "metadata": {},
   "source": [
    "\n",
    "<img src=\"Ukrainefakenews.png\" alt=\"Fakenews\">"
   ]
  },
  {
   "attachments": {},
   "cell_type": "markdown",
   "metadata": {},
   "source": [
    "## Exercise 10.3\n",
    "\n",
    "- A. Using an editor of your choice, create a static web page named `index.html`.\n",
    "    -\tCreate the boiler-plate html structure.\n",
    "    -\tInclude the following html elements in the `index.html`. Use any relevant attributes as necessary:\n",
    "\n",
    "<CENTER>\n",
    "\n",
    ">| Type           | Elements                             | Attributes |\n",
    ">|----------------|--------------------------------------|------------|\n",
    ">| Common         |                                      | `id`, `class`  |\n",
    ">| Required       | `<html>`,`<head>`,`<title>`,`<body>`         |            |\n",
    ">| Metadata       | `<link>`                               | `rel`, `href`  |\n",
    ">| Structure      | `<h1>`,`<h2>`,`<h3>`,`<p>`,`<div>`,`<span>`,`<hr>` |            |\n",
    ">| Text and Media | `<b>`,`<i>`                              |            |\n",
    ">|                | `<a>`                                  | `href`       |\n",
    ">|                | `<img>`                                  | `src`, `alt`       |\n",
    "\n",
    "</center>\n",
    "\n",
    "- B. To render characters used for markup, eg `<`, `>`, `&`, `“`,  use the following:\n",
    "\n",
    "<CENTER>\n",
    "\n",
    ">| Character | `&`     | `<`    | `>`    | `\"`      |\n",
    ">|-----------|-------|------|------|--------|\n",
    ">| Reference | `&amp;` | `&lt;` | `&gt;` | `&quot;` |\n",
    "\n",
    "</center>\n",
    "\n",
    "Try rendering the following contents in the html page:\n",
    "\"To display a hyper link, use `<a href=\"products.html\">` Products </>\"\n"
   ]
  },
  {
   "cell_type": "code",
   "execution_count": 46,
   "metadata": {},
   "outputs": [
    {
     "name": "stdout",
     "output_type": "stream",
     "text": [
      " * Serving Flask app '__main__'\n",
      " * Debug mode: off\n"
     ]
    },
    {
     "name": "stderr",
     "output_type": "stream",
     "text": [
      "WARNING: This is a development server. Do not use it in a production deployment. Use a production WSGI server instead.\n",
      " * Running on http://127.0.0.1:5000\n",
      "Press CTRL+C to quit\n",
      "127.0.0.1 - - [15/May/2023 17:10:16] \"GET / HTTP/1.1\" 200 -\n",
      "127.0.0.1 - - [15/May/2023 17:10:19] \"GET /products.html HTTP/1.1\" 200 -\n",
      "127.0.0.1 - - [15/May/2023 17:10:19] \"GET /static/productsexercise.css HTTP/1.1\" 304 -\n",
      "127.0.0.1 - - [15/May/2023 17:10:19] \"GET /static/Chicken.png HTTP/1.1\" 304 -\n",
      "127.0.0.1 - - [15/May/2023 17:10:19] \"GET /static/Junxiang.png HTTP/1.1\" 304 -\n",
      "127.0.0.1 - - [15/May/2023 17:10:19] \"GET /static/Goofyemoji.png HTTP/1.1\" 304 -\n",
      "127.0.0.1 - - [15/May/2023 17:10:21] \"GET /products.html HTTP/1.1\" 200 -\n",
      "127.0.0.1 - - [15/May/2023 17:10:21] \"GET /static/productsexercise.css HTTP/1.1\" 304 -\n",
      "127.0.0.1 - - [15/May/2023 17:10:21] \"GET /static/Chicken.png HTTP/1.1\" 304 -\n",
      "127.0.0.1 - - [15/May/2023 17:10:21] \"GET /static/Junxiang.png HTTP/1.1\" 304 -\n",
      "127.0.0.1 - - [15/May/2023 17:10:21] \"GET /static/Goofyemoji.png HTTP/1.1\" 304 -\n",
      "127.0.0.1 - - [15/May/2023 17:10:21] \"GET /products.html HTTP/1.1\" 200 -\n",
      "127.0.0.1 - - [15/May/2023 17:10:21] \"GET /static/productsexercise.css HTTP/1.1\" 304 -\n",
      "127.0.0.1 - - [15/May/2023 17:10:21] \"GET /static/Chicken.png HTTP/1.1\" 304 -\n",
      "127.0.0.1 - - [15/May/2023 17:10:21] \"GET /static/Junxiang.png HTTP/1.1\" 304 -\n",
      "127.0.0.1 - - [15/May/2023 17:10:21] \"GET /static/Goofyemoji.png HTTP/1.1\" 304 -\n",
      "127.0.0.1 - - [15/May/2023 17:11:09] \"GET /products.html HTTP/1.1\" 200 -\n",
      "127.0.0.1 - - [15/May/2023 17:11:09] \"GET /static/Chicken.png HTTP/1.1\" 304 -\n",
      "127.0.0.1 - - [15/May/2023 17:11:09] \"GET /static/productsexercise.css HTTP/1.1\" 200 -\n",
      "127.0.0.1 - - [15/May/2023 17:11:09] \"GET /static/Junxiang.png HTTP/1.1\" 304 -\n",
      "127.0.0.1 - - [15/May/2023 17:11:09] \"GET /static/Goofyemoji.png HTTP/1.1\" 304 -\n",
      "127.0.0.1 - - [15/May/2023 17:11:29] \"GET /products.html HTTP/1.1\" 200 -\n",
      "127.0.0.1 - - [15/May/2023 17:11:29] \"GET /static/productsexercise.css HTTP/1.1\" 200 -\n",
      "127.0.0.1 - - [15/May/2023 17:11:29] \"GET /static/Chicken.png HTTP/1.1\" 304 -\n",
      "127.0.0.1 - - [15/May/2023 17:11:29] \"GET /static/Junxiang.png HTTP/1.1\" 304 -\n",
      "127.0.0.1 - - [15/May/2023 17:11:29] \"GET /static/Goofyemoji.png HTTP/1.1\" 304 -\n"
     ]
    }
   ],
   "source": [
    "from flask import Flask, render_template\n",
    "\n",
    "app = Flask(__name__)\n",
    "\n",
    "@app.route('/')\n",
    "def home():\n",
    "    return render_template('index.html')   #Refers to the folders 'templates' VERY IMPORTANT\n",
    "\n",
    "@app.route(\"/products.html\")\n",
    "def mrege_requests():\n",
    "    return render_template('products.html')\n",
    "\n",
    "\n",
    "if __name__ == '__main__':\n",
    "    app.run(debug=False)"
   ]
  },
  {
   "attachments": {},
   "cell_type": "markdown",
   "metadata": {},
   "source": [
    "## Exercise 10.4\n",
    "\n",
    "Using the appropriate html elements, create a web page named `products.html` to structure and organise the contents of a products catalogue. The catalogues should contain at least 3 products. Each product will have\n",
    "- name, \n",
    "- description\n",
    "- price \n",
    "- image\n",
    "\n",
    "**NOTE: Your html content should be indented appropriately such that they are easily readable. It need not follow the strict rules in Python.**\n"
   ]
  },
  {
   "attachments": {},
   "cell_type": "markdown",
   "metadata": {},
   "source": [
    "## Exercise 10.5\n",
    "\n",
    "The information in the CSV file, `./resources/log_ex8.csv`, are to be displayed in a web browser.\n",
    "\n",
    "For each record the web page the should include the:\n",
    "\n",
    "- Parse %\n",
    "- Name\n",
    "- Amount\n",
    "- Ilvl %\n",
    "- DPS\n",
    "\n",
    "Save the webpage as `EXERCISE10_5.html`."
   ]
  },
  {
   "cell_type": "code",
   "execution_count": 89,
   "metadata": {},
   "outputs": [
    {
     "name": "stdout",
     "output_type": "stream",
     "text": [
      " * Serving Flask app '__main__'\n",
      " * Debug mode: off\n"
     ]
    },
    {
     "name": "stderr",
     "output_type": "stream",
     "text": [
      "WARNING: This is a development server. Do not use it in a production deployment. Use a production WSGI server instead.\n",
      " * Running on http://127.0.0.1:5000\n",
      "Press CTRL+C to quit\n",
      "127.0.0.1 - - [15/May/2023 12:58:01] \"GET / HTTP/1.1\" 200 -\n"
     ]
    }
   ],
   "source": [
    "from flask import Flask, render_template\n",
    "import csv\n",
    "\n",
    "records = []\n",
    "\n",
    "with open(\"log_ex8.csv\") as r:\n",
    "    data = csv.reader(r)\n",
    "    for row in data:\n",
    "        records.append(row[:3] + row[4:5] + row[6:7])\n",
    "\n",
    "    app = Flask(__name__)\n",
    "\n",
    "    @app.route('/')\n",
    "    def home():\n",
    "        return render_template('EXERCISE10_5.html', datacsv = records)\n",
    "\n",
    "    if __name__ == '__main__':\n",
    "        app.run(debug=False)\n"
   ]
  },
  {
   "attachments": {},
   "cell_type": "markdown",
   "metadata": {},
   "source": [
    "## Exercise 10.6\n",
    "\n",
    "Download the file `practice2.html` from `resources` folder. \n",
    "\n",
    "**Using internal stylesheet**,\n",
    "\n",
    "1. Change the style of the `h1` element with the following properties/values:\n",
    "\t- `color : white`\n",
    "\t- `border : yellow`, 4 px width\n",
    "\t- `background: black`\n",
    "\t- `text-align: center`\n",
    "2. Change the style of `h2` elements with the following properties/values:\n",
    "\t-\t`font-size: 2 em`\n",
    "\t-\t`font-family: Arial, sans-serif`\n",
    "\t-\t`font-style: italic`\n",
    "\n",
    "Remove the internal stylesheet and use an external stylesheet to implement (1) and (2) (for external css use the filename `products.css`)\n",
    "\n",
    "Recall that selectors can refer to \n",
    "- an element type, example: `h1 {...}`\n",
    "- a specific element using its `id` attributes, example: `#special {...}`\n",
    "- its class, using its `class` attribute, example: `.products {...}`\n",
    "\n",
    "Modify the html and css file so that:\n",
    "\n",
    "3.\tAll the text under the heading **Education**, including the heading should be in red.\n",
    "4.\tAll the text under the heading **Skills**, excluding the heading and the last paragraph of text should be in green and with font size 8 px.\n",
    "5.\tThe text 'Potato Junior College' is in italic and font style `Courier New` .\n",
    "\n",
    "Your final html should look similar this:\n",
    "\n"
   ]
  },
  {
   "cell_type": "code",
   "execution_count": 6,
   "metadata": {},
   "outputs": [
    {
     "name": "stdout",
     "output_type": "stream",
     "text": [
      " * Serving Flask app '__main__'\n",
      " * Debug mode: off\n"
     ]
    },
    {
     "name": "stderr",
     "output_type": "stream",
     "text": [
      "WARNING: This is a development server. Do not use it in a production deployment. Use a production WSGI server instead.\n",
      " * Running on http://127.0.0.1:5000\n",
      "Press CTRL+C to quit\n",
      "127.0.0.1 - - [15/May/2023 14:28:33] \"GET / HTTP/1.1\" 200 -\n",
      "127.0.0.1 - - [15/May/2023 14:28:33] \"GET /static/exercise.css HTTP/1.1\" 200 -\n"
     ]
    }
   ],
   "source": [
    "from flask import Flask, render_template\n",
    "\n",
    "app = Flask(__name__)\n",
    "\n",
    "@app.route('/')\n",
    "def home():\n",
    "    return render_template('practice2.html')\n",
    "\n",
    "if __name__ == \"__main__\":\n",
    "    app.run(debug=False)"
   ]
  },
  {
   "attachments": {},
   "cell_type": "markdown",
   "metadata": {},
   "source": [
    "## Exercise 10.7\n",
    "\n",
    "Still with the same `practice2.html` from resources folder.\n",
    "\n",
    "1.\tAll the text under the heading Education, including the heading should be in red.\n",
    "2.\tAll the text under the heading Skills, excluding the heading and the last paragraph of text should be in green and with font size 8 px.\n",
    "3.\tThe text 'Potato Junior College' is in italic and font style `Courier New` .\n",
    "Your final html should look similar this:\n",
    "\n",
    "<center>\n",
    "<img src=\"./img/exercise10-pic1.png\"><br>\n",
    "(Box Model Concept)\n",
    "</center>\n"
   ]
  },
  {
   "attachments": {},
   "cell_type": "markdown",
   "metadata": {},
   "source": [
    "## Exercise 10.8\n",
    "\n",
    "- Go to https://www.w3schools.com/css/exercise.asp?filename=exercise_syntax1\n",
    "\n",
    "- Complete the 4 exercises without looking at the answers.\n",
    "\n"
   ]
  },
  {
   "attachments": {},
   "cell_type": "markdown",
   "metadata": {},
   "source": [
    "## Exercise 10.9 Box model concept\n",
    "\n",
    "<center>\n",
    "<img src=\"./img/web-1.png\"><br>\n",
    "(Box Model Concept)\n",
    "</center>\n",
    "\n",
    "- A. Go to the [https://tinyurl.com/webapp260219] and study the `html` and `css` code.\n",
    "\n",
    "- B. Align the text of the inner `div` element such that the text is evenly distributed between the margins as follows:\n",
    "\n",
    "<center>\n",
    "<img src=\"./img/web-2.png\"><br>\n",
    "</center>\n",
    " \n",
    "- C. Adjust the padding properties of the inner `div` elements by changing its value from `0px` to `50px` and observe the changes immediately. What do you observe?\n",
    "\n",
    "- D. Remove the `padding-bottom` property and use only on the `padding` property to set the inner `div` padding to `20px` all round (top, bottom, left and right) \n",
    "- E. Change the paddings of the `container` div element with the following settings:\n",
    "    -\ttop and bottom: `1em`\n",
    "    -\tleft and right: `4em`\n",
    "\n",
    "- F. Change the width of the `container` div element such that it occupies 20% of the width of the browser and align at the centre.\n",
    "\n",
    "- G. Create another div element block inside the `container` div element such that:\n",
    "    - all the styling and content are identical to the inner `div` element except for the background colour which is changed to white.\n",
    "    - separated from the first inner `div` element by `20px`.\n",
    "    Your layout should look like this:\n",
    "\n",
    "<center>\n",
    "<img src=\"./img/web-3.png\"><br>\n",
    "</center>\n",
    "\n"
   ]
  },
  {
   "cell_type": "code",
   "execution_count": 7,
   "metadata": {},
   "outputs": [
    {
     "name": "stdout",
     "output_type": "stream",
     "text": [
      " * Serving Flask app '__main__'\n",
      " * Debug mode: off\n"
     ]
    },
    {
     "name": "stderr",
     "output_type": "stream",
     "text": [
      "WARNING: This is a development server. Do not use it in a production deployment. Use a production WSGI server instead.\n",
      " * Running on http://127.0.0.1:5000\n",
      "Press CTRL+C to quit\n",
      "127.0.0.1 - - [15/May/2023 15:27:17] \"GET / HTTP/1.1\" 200 -\n",
      "127.0.0.1 - - [15/May/2023 15:27:17] \"GET /static/boxmodel.css HTTP/1.1\" 200 -\n"
     ]
    }
   ],
   "source": [
    "from flask import Flask, render_template\n",
    "\n",
    "app = Flask(__name__)\n",
    "\n",
    "@app.route('/')\n",
    "def home():\n",
    "    return render_template('boxmodel.html')\n",
    "\n",
    "if __name__ == '__main__':\n",
    "    app.run(debug=False)"
   ]
  },
  {
   "attachments": {},
   "cell_type": "markdown",
   "metadata": {},
   "source": [
    "## Exercise 10.10\n",
    "\n",
    "The key to an effective presentation on a web site is not to use any fancy graphics or visual effects but to have a good layout to provide **visual clarity** so that information can easily be communicated. These can be done by making use of the box model to set appropriate margins, border and paddings.\n",
    "\n",
    "Using the `products.html` document that you have created in the previous exercise. Add an external `css` file and define the styling and layout for the products contents in the `html` file. The 3 products’ information (text and graphics) should be displayed such that they are aligned to the centre of browser. The image must be displayed in the right proportion(maintain its aspect ratio) to the text and not be distorted. Your layout should be similar (need not be exact) to this:\n",
    "\n",
    "<center>\n",
    "<img src=\"./img/web-4.png\"><br>\n",
    "</center>\n",
    "\n",
    "Tips:\n",
    "- each product should contain 3 blocks (using `div` elements) of texts (product name, description and price) and 1 image.\n",
    "- Create a container using `div` elements to contain the 3 blocks of texts and image\n",
    "- Using properties like `text-align`, `margin`, `border`, `width`, `color`, `font-size`, `font-family` to stylise the html elements.\n",
    "- Use color, font type and size, border, margins, paddings to emphasise or de-emphasise the contents that you wish to present to the user\n",
    "- To display an image proportionally, you have to set its width size within the container.\n"
   ]
  },
  {
   "attachments": {},
   "cell_type": "markdown",
   "metadata": {},
   "source": [
    "## Exercise 10.11\n",
    "\n",
    "Spruce up the page you created in Exercise 10.4."
   ]
  }
 ],
 "metadata": {
  "kernelspec": {
   "display_name": "Python 3.10.2 64-bit",
   "language": "python",
   "name": "python3"
  },
  "language_info": {
   "codemirror_mode": {
    "name": "ipython",
    "version": 3
   },
   "file_extension": ".py",
   "mimetype": "text/x-python",
   "name": "python",
   "nbconvert_exporter": "python",
   "pygments_lexer": "ipython3",
   "version": "3.10.10"
  },
  "orig_nbformat": 2,
  "vscode": {
   "interpreter": {
    "hash": "a42ccb73e7d9bfdf27e036f1d2b8b681e55fc0743cc5586bc2474d4a60f4b886"
   }
  }
 },
 "nbformat": 4,
 "nbformat_minor": 2
}
