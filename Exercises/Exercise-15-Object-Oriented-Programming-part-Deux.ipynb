{
 "cells": [
  {
   "attachments": {},
   "cell_type": "markdown",
   "metadata": {},
   "source": [
    "# Exercise 15\n",
    "\n",
    "Related Notes:\n",
    "- Chapter_09_Object_Oriented_Programming\n",
    "- Exercise 14\n",
    "\n",
    "[![Open In Colab](https://colab.research.google.com/assets/colab-badge.svg)](https://colab.research.google.com/github/njc-cz2-2021/Materials/blob/main/Exercises/Exercise-15-Object-Oriented-Programming-part-Deux.ipynb) \n",
    "\n",
    "For Exercises 15.1, refer back to the `Complex` class you defined in Exercise 14. "
   ]
  },
  {
   "attachments": {},
   "cell_type": "markdown",
   "metadata": {},
   "source": [
    "## Exercise 15.1 2019/NJC/Tutorial 11: Complex Number(TBL)/A1\n",
    "\n",
    "Simplify the following complex numbers in the Cartesian form, $x + iy$:\n",
    "\n",
    "1. $\\left(3-8i\\right)\\left(5+7i\\right)$\n",
    "\n",
    "2. $\\frac{7+5i}{4-3i}$\n",
    "\n",
    "### Ans: \n",
    "\n",
    "1.$71-19i$\n",
    "\n",
    "2.$\\frac{13}{25}+\\frac{41}{25}i$ "
   ]
  },
  {
   "attachments": {},
   "cell_type": "markdown",
   "metadata": {},
   "source": [
    "#### Answer"
   ]
  },
  {
   "cell_type": "code",
   "execution_count": 40,
   "metadata": {},
   "outputs": [
    {
     "name": "stdout",
     "output_type": "stream",
     "text": [
      "3 + -8i\n",
      "5 + 7i\n",
      "71 + -19i\n",
      "7 + 5i\n",
      "4 + -3i\n",
      "0.52 + 1.6400000000000001i\n"
     ]
    }
   ],
   "source": [
    "#YOUR_CODE_HERE\n",
    "import math\n",
    "\n",
    "class Complex():\n",
    "    #Task 1\n",
    "    def __init__(self,real: float , imag: float):\n",
    "        self.real = real\n",
    "        self.imag = imag\n",
    "        \n",
    "    def Re(self):\n",
    "        return self.real\n",
    "    \n",
    "    def Im(self):\n",
    "        return self.imag\n",
    "    \n",
    "    def mod(self):\n",
    "        return math.sqrt(self.real**2 + self.imag**2)\n",
    "    \n",
    "    def arg(self):\n",
    "        #Guard cases for certain scenarios\n",
    "        if self.real == 0:\n",
    "            if self.imag < 0:\n",
    "                return -(math.pi/2)\n",
    "            else:\n",
    "                return math.pi/2\n",
    "        if self.imag == 0:\n",
    "            if self.real < 0:\n",
    "                return math.pi\n",
    "        #Quadrants 2 or 3\n",
    "        if self.real < 0:\n",
    "            #Quadrant 3\n",
    "            if self.imag < 0:\n",
    "                return math.atan(self.imag / self.real) - math.pi\n",
    "            else:\n",
    "                return math.atan(self.imag / self.real) + math.pi\n",
    "        #Quadrant 1 or 4\n",
    "        return math.atan(self.imag / self.real)\n",
    "\n",
    "    def __str__(self):\n",
    "        return f\"{self.real} + {self.imag}i\"\n",
    "    \n",
    "    #Task 2\n",
    "    def __add__(self, c : complex):\n",
    "        return Complex(self.real + c.real , self.imag + c.imag)\n",
    "    \n",
    "    def __sub__(self, c: complex):\n",
    "        return Complex(self.real - c.real , self.imag - c.imag)\n",
    "    \n",
    "    def __mul__(self, c: complex):\n",
    "        return Complex(self.real*c.real - self.imag*c.imag, (self.real*c.imag + c.real*self.imag))\n",
    "    \n",
    "    def __truediv__(self, c:complex):\n",
    "        const = 1/(c.real**2 + c.imag**2)\n",
    "        return Complex(const*(self.real*c.real + self.imag*c.imag), const*(c.real*self.imag - self.real*c.imag))\n",
    "        \n",
    "    \n",
    "#Question 1\n",
    "complex1 = Complex(3, -8)\n",
    "print(complex1)\n",
    "complex2 = Complex(5, 7)\n",
    "print(complex2)\n",
    "   #To reduce (3-8i)(5+7i)\n",
    "print(complex1.__mul__(complex2))\n",
    "\n",
    "#Question 2\n",
    "complex3 = Complex(7,5)\n",
    "print(complex3)\n",
    "complex4 = Complex(4, -3)\n",
    "print(complex4)\n",
    "   #To reduce (7+5i)/(4-3i)\n",
    "print(complex3.__truediv__(complex4))"
   ]
  },
  {
   "attachments": {},
   "cell_type": "markdown",
   "metadata": {},
   "source": [
    "## Exercise 15.2 2019/NJC/Tutorial 11: Complex Number(TBL)/B1 (Modified)\n",
    "\n",
    "Find the modulus and argument of the following complex numbers. \n",
    "\n",
    "1. $-2i$\n",
    "2. $-1-i$\n",
    "3. $-1+\\sqrt{3}i$ \n",
    "4. $(-1-i)(-1+\\sqrt{3}i)$\n",
    "5. $\\frac{-1+\\sqrt{3}i}{-1-i}$\n",
    "6. $-100$\n",
    "\n",
    "### Ans: \n",
    "\n",
    "1. $2,-\\frac{\\pi}{2}$\n",
    "2. $\\sqrt{2},-\\frac{3\\pi}{4}$ \n",
    "3. $2,\\frac{2\\pi}{3}$\n",
    "4. $2\\sqrt{2},-\\frac{\\pi}{12}$\n",
    "5. $\\sqrt{2},-\\frac{7\\pi}{12}$\n",
    "6. $100,\\pi$"
   ]
  },
  {
   "attachments": {},
   "cell_type": "markdown",
   "metadata": {},
   "source": [
    "#### Answer"
   ]
  },
  {
   "cell_type": "code",
   "execution_count": 41,
   "metadata": {},
   "outputs": [
    {
     "name": "stdout",
     "output_type": "stream",
     "text": [
      "1)\n",
      "2.0\n",
      "-1.5707963267948966\n",
      "2)\n",
      "1.4142135623730951\n",
      "-2.356194490192345\n",
      "3)\n",
      "1.9999999999999998\n",
      "2.0943951023931957\n",
      "4)\n",
      "2.8284271247461903\n",
      "-0.2617993877991494\n",
      "5)\n",
      "1.4142135623730951\n",
      "-1.832595714594046\n",
      "6)\n",
      "100.0\n",
      "3.141592653589793\n"
     ]
    }
   ],
   "source": [
    "#YOUR_CODE_HERE\n",
    "import math \n",
    "\n",
    "#Question 1\n",
    "print(\"1)\")\n",
    "complex1 = Complex(0, -2)\n",
    "print(complex1.mod())\n",
    "print(complex1.arg())\n",
    "\n",
    "#Question 2\n",
    "print(\"2)\")\n",
    "complex2 = Complex(-1 , -1)\n",
    "print(complex2.mod())\n",
    "print(complex2.arg())\n",
    "\n",
    "#Question 3\n",
    "print(\"3)\")\n",
    "complex3 = Complex(-1 , math.sqrt(3))\n",
    "print(complex3.mod())\n",
    "print(complex3.arg())\n",
    "\n",
    "#Question 4\n",
    "print(\"4)\")\n",
    "complex4 =complex2.__mul__(complex3)\n",
    "print(complex4.mod())\n",
    "print(complex4.arg())\n",
    "\n",
    "#Question 5\n",
    "print(\"5)\")\n",
    "complex5 = (complex3.__truediv__(complex2))\n",
    "print(complex5.mod())\n",
    "print(complex5.arg())\n",
    "\n",
    "#Question 6\n",
    "print(\"6)\")\n",
    "complex6 = Complex(-100 , 0)\n",
    "print(complex6.mod())\n",
    "print(complex6.arg())\n",
    "\n",
    "\n"
   ]
  },
  {
   "attachments": {},
   "cell_type": "markdown",
   "metadata": {},
   "source": [
    "## Exercise 15.3\n",
    "\n",
    "The modulus and argument of a complex number gives us another way to understand complex number. Recall that if $z=x+iy$, from the diagram below, we have $|z|=r$ and $\\text{arg}=\\varphi$.\n",
    "\n",
    "<center>\n",
    "<img src=\"img/220px-Complex_number_illustration_modarg.svg.png\" width=\"250\" align=\"center\"/>\n",
    "</center>\n",
    "\n",
    "What this means is that instead of locating a point in a 2D plane by comparing it via the displacement in the horizontal and vertical axes ($xy$-coordinates), we can describe the same point by referring to how far it is from the origin ($r$) and how much angle does it make with a reference axis ($\\text{arg}$). \n",
    "\n",
    "In particular, from basic trigonometry, that $$x=r\\cos\\varphi, y=(r\\sin \\varphi).$$ Consequently, the same complex number $z$ can be represented as  $z=r\\cos \\varphi +i (r\\sin \\varphi)$.\n",
    "\n",
    "The following code plots a quadrilateral where the points are stored in the list `coord`."
   ]
  },
  {
   "cell_type": "code",
   "execution_count": 42,
   "metadata": {},
   "outputs": [
    {
     "data": {
      "image/png": "[encoded data removed]",
      "text/plain": [
       "<Figure size 640x480 with 1 Axes>"
      ]
     },
     "metadata": {},
     "output_type": "display_data"
    }
   ],
   "source": [
    "import matplotlib.pyplot as plt\n",
    "\n",
    "coord = [[-1,0], [2,-1], [4,5], [0,3]]\n",
    "coord.append(coord[0]) #repeat the first point to create a 'closed loop'\n",
    "\n",
    "xs, ys = zip(*coord) #create lists of x and y values\n",
    "\n",
    "ax = plt.gca()  # gca stands for 'get current axis'\n",
    "ax.spines['right'].set_color('none')\n",
    "ax.spines['top'].set_color('none')\n",
    "ax.xaxis.set_ticks_position('bottom')\n",
    "ax.spines['bottom'].set_position(('data',0))\n",
    "ax.yaxis.set_ticks_position('left')\n",
    "ax.spines['left'].set_position(('data',0))\n",
    "\n",
    "\n",
    "plt.plot(xs,ys) \n",
    "plt.show() # if you need..."
   ]
  },
  {
   "attachments": {},
   "cell_type": "markdown",
   "metadata": {},
   "source": [
    "For each of the following complex number $w$, \n",
    "\n",
    "- $\\frac{\\sqrt{2}}{2}+i\\frac{\\sqrt{2}}{2}$\n",
    "- $-1+\\sqrt{3}i$\n",
    "- $-1.5$\n",
    "\n",
    "do the following;\n",
    "\n",
    "1. For each point in `coord`, \n",
    "    - convert it to a `Complex` object and multiply it with the complex number $w$,\n",
    "    - convert the product back into a list that represent a point\n",
    "    - append these points into the list `coord_transformed`\n",
    "2. Plot the 2 quadrilaterals, one with points in `coord` and the other with points in `coord_transformed` on the same diagram.\n",
    "\n",
    "What do you observe about the difference between quadrilaterals obtained from `coord` and `coord_transformed`?"
   ]
  },
  {
   "attachments": {},
   "cell_type": "markdown",
   "metadata": {},
   "source": [
    "#### Answer"
   ]
  },
  {
   "cell_type": "code",
   "execution_count": 47,
   "metadata": {},
   "outputs": [
    {
     "data": {
      "image/png": "[encoded data removed]",
      "text/plain": [
       "<Figure size 640x480 with 1 Axes>"
      ]
     },
     "metadata": {},
     "output_type": "display_data"
    },
    {
     "data": {
      "image/png": "[encoded data removed]",
      "text/plain": [
       "<Figure size 640x480 with 1 Axes>"
      ]
     },
     "metadata": {},
     "output_type": "display_data"
    },
    {
     "data": {
      "image/png": "[encoded data removed]",
      "text/plain": [
       "<Figure size 640x480 with 1 Axes>"
      ]
     },
     "metadata": {},
     "output_type": "display_data"
    }
   ],
   "source": [
    "#YOUR_ANSWER_HERE\n",
    "import math\n",
    "import matplotlib.pyplot as plt\n",
    "\n",
    "def plotcomplex(w):\n",
    "    coord_transformed = []\n",
    "    for x in coord[:-1]:\n",
    "        a,b = x[0], x[1]\n",
    "        complexcoord = Complex(a,b)\n",
    "        coordnew = w.__mul__(complexcoord)\n",
    "        realcoord = [coordnew.Re(),coordnew.Im()]\n",
    "        coord_transformed.append(realcoord)\n",
    "\n",
    "    coord_transformed.append(coord_transformed[0])\n",
    "\n",
    "    xs, ys = zip(*coord) #create lists of x and y values\n",
    "    xc, yc = zip(*coord_transformed)\n",
    "\n",
    "\n",
    "    plt.axes().set_aspect(aspect='equal')\n",
    "    plt.plot(xs,ys) \n",
    "    plt.plot(xc,yc)\n",
    "    plt.show() # if you need...\n",
    "\n",
    "#Question 1\n",
    "w = Complex(math.sqrt(2)/2 , math.sqrt(2)/2 )\n",
    "plotcomplex(w)\n",
    "\n",
    "#Question 2\n",
    "a = Complex(-1, math.sqrt(3))\n",
    "plotcomplex(a)\n",
    "\n",
    "#Question 3\n",
    "b = Complex(-1.5 , 0)\n",
    "plotcomplex(b)\n",
    "\n",
    "\n",
    "\n",
    "\n",
    "\n",
    "    \n",
    "\n",
    "\n"
   ]
  },
  {
   "attachments": {},
   "cell_type": "markdown",
   "metadata": {},
   "source": [
    ">```\n",
    ">Question 1\n",
    ">Rotated slightly by a certain angle(theta) but similar in size\n",
    ">\n",
    ">Question 2\n",
    ">The new quadilateral is rotated anticlockwise by 90 degrees, and is much larger size than the >regular quadilateral\n",
    ">\n",
    ">Question 3\n",
    ">The new quadilateral is just an inverted version (rotated a full 180 degrees) of the old quadilateral and is bigger in size, >being symmetrical to the old quadilateral on a certain line (which i cannot determine)"
   ]
  },
  {
   "attachments": {},
   "cell_type": "markdown",
   "metadata": {},
   "source": [
    "## Exercise 15.4\n",
    "\n",
    "In mathematics, a $2\\times n$ **matrix** over $\\mathbb{R}$ is a two-dimensional array whose entries are elements of $\\mathbb{R}$ with 2 rows and $n$ columns. Here is an example of $2\\times 2$ matrix: $$\\left(\\begin{array}{cc}\n",
    "1 & 3\\\\\n",
    "-10 & 30.5\n",
    "\\end{array}\\right)$$\n",
    "\n",
    "A program is to be written to implement basic matrix operations.\n",
    "\n",
    "In Python, we can use a nested list to write a matrix, e.g. the matrix above can be represented as `[[1,3],[-10,30.5]]`.\n",
    "\n",
    "A matrix is customarily denoted with a capital letter and the entry in the $i$ th row and $j$ th column in a matrix is denoted with the lowercase letter of the alphabet used for the matrix followed with the subscript $ij$, e.g if $M=\\left(\\begin{array}{cc}\n",
    "1 & 3\\\\\n",
    "-10 & 30.5\n",
    "\\end{array}\\right)$, then the entry at 1st row and 2nd column is $m_{12}=3$.\n",
    "\n",
    "Let $A$ and $B$ be matrices of the same dimensions, i.e. same number of rows and same number of columns, we define the *addition* $A+B=C$ as a matrix with the same number of rows and columns as $A$ and $B$ where for every entry in $C$, $c_{ij}=a_{ij}+b_{ij}$, e.g. $$\\left(\\begin{array}{ccc}\n",
    "1 & 3 & 5\\\\\n",
    "2 & 3 & 2\n",
    "\\end{array}\\right)+\\left(\\begin{array}{ccc}\n",
    "1 & 1 & 3\\\\\n",
    "4 & 0 & 0\n",
    "\\end{array}\\right)=\\left(\\begin{array}{ccc}\n",
    "2 & 4 & 8\\\\\n",
    "6 & 3 & 2\n",
    "\\end{array}\\right).$$\n",
    "\n",
    "Let $A$ and $B$ be $2\\times 2$ and $2\\times n$ matrices respectively,  we define the *product* $A*B=C$ as a $2\\times n$ matrix such that for every $i,j$ th entry in $C$, $c_{ij}=a_{i1}b_{1j}+a_{i2}b_{2j}$.\n",
    "\n",
    "Let $A=\\left(\\begin{array}{cc}\n",
    "a_{11} & a_{12}\\\\\n",
    "a_{21} & a_{22}\n",
    "\\end{array}\\right)$ be a $2\\times 2$ matrix, the *determinant* of $A$, denoted as $|A|$ is the value $a_{11}a_{22}-a_{12}a_{21}$ and if $|A|\\neq 0$, the **inverse** of $A$, denoted as $A^{-1}$ is defined to be $$A^{-1}=\\left(\\begin{array}{cc}\n",
    "\\frac{a_{22}}{\\left|A\\right|} & \\frac{-a_{12}}{\\left|A\\right|}\\\\\n",
    "\\frac{-a_{21}}{\\left|A\\right|} & \\frac{a_{11}}{\\left|A\\right|}\n",
    "\\end{array}\\right).$$\n",
    "\n",
    "1. Implement the class `TwoByNMatrix` with the following design:\n",
    "\n",
    "\n",
    ">```\n",
    ">| TwoByNMatrix                |\n",
    ">|-----------------------------|\n",
    ">|  entry: ARRAY               |\n",
    ">|-----------------------------|\n",
    ">|  constructor(l : ARRAY)     |\n",
    ">|  __add__(m : TwoByNMatrix)  |\n",
    ">|  __mul__(m : TwoByNMatrix)  |\n",
    ">|  det(): FLOAT               |\n",
    ">|  inv(): TwoByNMatrix        |\n",
    ">|-----------------------------|\n",
    ">```\n",
    "\n",
    "Test your code with the following test cases:\n",
    "\n",
    "-  $\\left(\\begin{array}{ccc}\n",
    "1 & 3 & 5\\\\\n",
    "2 & 3 & 2\n",
    "\\end{array}\\right)+\\left(\\begin{array}{ccc}\n",
    "1 & 1 & 3\\\\\n",
    "4 & 0 & 0\n",
    "\\end{array}\\right)=\\left(\\begin{array}{ccc}\n",
    "2 & 4 & 8\\\\\n",
    "6 & 3 & 2\n",
    "\\end{array}\\right)$\n",
    "\n",
    "- $\\left(\\begin{array}{cc}\n",
    "1 & 3\\\\\n",
    "4 & 5\n",
    "\\end{array}\\right)\\left(\\begin{array}{ccc}\n",
    "1 & 1 & 1\\\\\n",
    "0 & 0 & 1\n",
    "\\end{array}\\right)=\\left(\\begin{array}{ccc}\n",
    "1 & 1 & 4\\\\\n",
    "4 & 4 & 9\n",
    "\\end{array}\\right)$\n",
    "\n",
    "- $\\left|\\left(\\begin{array}{cc}\n",
    "1 & 3\\\\\n",
    "4 & 5\n",
    "\\end{array}\\right)\\right|=-7$\n",
    "- $\\left(\\begin{array}{cc}\n",
    "1 & 3\\\\\n",
    "4 & 5\n",
    "\\end{array}\\right)^{-1}=-\\frac{1}{7}\\left(\\begin{array}{cc}\n",
    "5 & -3\\\\\n",
    "-4 & 1\n",
    "\\end{array}\\right)$"
   ]
  },
  {
   "attachments": {},
   "cell_type": "markdown",
   "metadata": {},
   "source": [
    "#### Answer"
   ]
  },
  {
   "cell_type": "code",
   "execution_count": 44,
   "metadata": {},
   "outputs": [
    {
     "name": "stdout",
     "output_type": "stream",
     "text": [
      "[[2, 4, 8], [6, 3, 2]]\n",
      "[[1, 1, 4], [4, 4, 9]]\n",
      "-7\n",
      "Matrix is [[-0.7142857142857143, 0.42857142857142855], [0.5714285714285714, -0.14285714285714285]]\n"
     ]
    }
   ],
   "source": [
    "#YOUR_ANSWER_HERE\n",
    "class TwoByNMatrix:\n",
    "    def __init__(self, matrix: list):\n",
    "        self.matrix = matrix\n",
    "    \n",
    "    def __add__(self, m):\n",
    "        final = self.matrix\n",
    "        for x in range(len(final)):\n",
    "            for i in range(len(final[x])):\n",
    "                self.matrix[x][i] += m.matrix[x][i]\n",
    "        return final\n",
    "\n",
    "    def __mul__(self, m):\n",
    "        final = []\n",
    "        for j in range(len(self.matrix)):\n",
    "            mini = []\n",
    "            for n in range(len(m.matrix[0])):\n",
    "                mini.append(self.matrix[j][0]*m.matrix[0][n] + self.matrix[j][1]*m.matrix[1][n])\n",
    "            final.append(mini)\n",
    "        return final\n",
    "\n",
    "    def det(self):\n",
    "        return self.matrix[0][0]*self.matrix[1][1] - self.matrix[0][1]*self.matrix[1][0]\n",
    "    \n",
    "    def inv(self):\n",
    "        return TwoByNMatrix([[self.matrix[1][1]/ self.det(), -self.matrix[0][1] / self.det()],\n",
    "                             [-self.matrix[1][0]/ self.det(), self.matrix[0][0]/ self.det()]])\n",
    "    \n",
    "    def __str__(self):\n",
    "        return f\"Matrix is {self.matrix}\"\n",
    "\n",
    "        \n",
    "\n",
    "#Question 1\n",
    "matrix1 = TwoByNMatrix([[1,3,5],[2,3,2]])\n",
    "matrix2 = TwoByNMatrix([[1,1,3],[4,0,0]])\n",
    "print(matrix1.__add__(matrix2))\n",
    "\n",
    "#Question 3\n",
    "matrix3 = TwoByNMatrix([[1,3],[4,5]])\n",
    "matrix4 = TwoByNMatrix([[1,1,1],[0,0,1]])\n",
    "print(matrix3.__mul__(matrix4))\n",
    "\n",
    "#Question 3\n",
    "matrix5 = TwoByNMatrix([[1,3],[4,5]])\n",
    "print(matrix5.det())\n",
    "        \n",
    "#Question 4 \n",
    "print(matrix5.inv())\n"
   ]
  },
  {
   "attachments": {},
   "cell_type": "markdown",
   "metadata": {},
   "source": [
    "2. If $\\left| A\\right|\\neq 0$, find $A*A^{-1}$ and $A^{-1}*A$. "
   ]
  },
  {
   "attachments": {},
   "cell_type": "markdown",
   "metadata": {},
   "source": [
    "#### Answer"
   ]
  },
  {
   "cell_type": "code",
   "execution_count": 45,
   "metadata": {},
   "outputs": [
    {
     "name": "stdout",
     "output_type": "stream",
     "text": [
      "[[0.9999999999999999, 0.0], [-4.440892098500626e-16, 1.0]]\n",
      "[[0.9999999999999999, 0.0], [0.0, 1.0]]\n"
     ]
    }
   ],
   "source": [
    "#YOUR_ANSWER_HERE\n",
    "matrixA = TwoByNMatrix([[1,3],[4,5]])\n",
    "print(matrixA.__mul__(matrixA.inv()))\n",
    "print(matrixA.inv().__mul__(matrixA))"
   ]
  },
  {
   "attachments": {},
   "cell_type": "markdown",
   "metadata": {},
   "source": [
    "Question 2\n",
    ">```\n",
    ">A*A^-1 and A^-1*A is [[1,0],[0,1]]"
   ]
  },
  {
   "attachments": {},
   "cell_type": "markdown",
   "metadata": {},
   "source": [
    "3. The use of matrices can also be employed in 2D computer graphics as a way to rotate images. \n",
    "\n",
    "Let $(x,y)$ be a point on a plane that we want to rotate counterclockwise by $\\theta$ radians about the origin. Then the new coordinates of the point is $(x',y')$ where $$\\begin{array}{ccc}\n",
    "x\\cos\\theta-y\\sin\\theta & = & x',\\\\\n",
    "x\\sin\\theta+y\\sin\\theta & = & y'.\n",
    "\\end{array}$$ \n",
    "\n",
    "The system of equation can be written in the matrix form, $$\\left(\\begin{array}{cc}\n",
    "\\cos\\theta & -\\sin\\theta\\\\\n",
    "\\sin\\theta & \\sin\\theta\n",
    "\\end{array}\\right)\\left(\\begin{array}{c}\n",
    "x\\\\\n",
    "y\n",
    "\\end{array}\\right)=\\left(\\begin{array}{c}\n",
    "x'\\\\\n",
    "y'\n",
    "\\end{array}\\right).$$\n",
    "\n",
    "In separate diagrams, for every angle $\\theta \\in \\left\\{-\\frac{\\pi}{2},-\\frac{3\\pi}{4},\\frac{2\\pi}{3},\\pi\\right\\}$:\n",
    "\n",
    "A. rotate every points in the set $\\left\\{ \\left(-1,0\\right),\\left(2,-1\\right),\\left(4,5\\right),\\left(0,3\\right)\\right\\}$, \n",
    "\n",
    "B. plot the original points and the rotated points in the same diagram."
   ]
  },
  {
   "attachments": {},
   "cell_type": "markdown",
   "metadata": {},
   "source": [
    "#### Answer"
   ]
  },
  {
   "cell_type": "code",
   "execution_count": 46,
   "metadata": {},
   "outputs": [
    {
     "data": {
      "image/png": "[encoded data removed]",
      "text/plain": [
       "<Figure size 640x480 with 1 Axes>"
      ]
     },
     "metadata": {},
     "output_type": "display_data"
    },
    {
     "data": {
      "image/png": "[encoded data removed]",
      "text/plain": [
       "<Figure size 640x480 with 1 Axes>"
      ]
     },
     "metadata": {},
     "output_type": "display_data"
    },
    {
     "data": {
      "image/png": "[encoded data removed]",
      "text/plain": [
       "<Figure size 640x480 with 1 Axes>"
      ]
     },
     "metadata": {},
     "output_type": "display_data"
    },
    {
     "data": {
      "image/png": "[encoded data removed]",
      "text/plain": [
       "<Figure size 640x480 with 1 Axes>"
      ]
     },
     "metadata": {},
     "output_type": "display_data"
    }
   ],
   "source": [
    "#YOUR_ANSWER_HERE\n",
    "import math\n",
    "import matplotlib.pyplot as plt\n",
    "\n",
    "\n",
    "def rotation(coordinates, keter):\n",
    "    rotatedpoints = []\n",
    "    angle = TwoByNMatrix([[math.cos(keter), -math.sin(keter)],\n",
    "                       [math.sin(keter), math.cos(keter)]])\n",
    "    for n in coordinates:\n",
    "        x,y = n\n",
    "        coordmatrix = TwoByNMatrix([[x],[y]])\n",
    "        rotatedpoints.append(angle.__mul__(coordmatrix))\n",
    "    return rotatedpoints\n",
    "\n",
    "def ploting(points,rotatingpoints):\n",
    "    points.append(points[0])\n",
    "    rotatingpoints.append(rotatingpoints[0])\n",
    "    plotx, ploty = zip(*points)\n",
    "    plotx2, ploty2 = zip(*rotatingpoints)\n",
    "    \n",
    "\n",
    "    plt.axes().set_aspect(aspect='equal')\n",
    "    plt.plot(plotx,ploty)\n",
    "    plt.plot(plotx2,ploty2)\n",
    "    plt.show()\n",
    "    \n",
    "\n",
    "\n",
    "coords = [[-1,0], [2,-1], [4,5], [0,3]]\n",
    "angles = [-math.pi/2 , -3*math.pi/4, 2*math.pi/3 , math.pi]\n",
    "for x in angles:\n",
    "    ploting(coords, rotation(coords,x))\n"
   ]
  }
 ],
 "metadata": {
  "kernelspec": {
   "display_name": "Python 3",
   "language": "python",
   "name": "python3"
  },
  "language_info": {
   "codemirror_mode": {
    "name": "ipython",
    "version": 3
   },
   "file_extension": ".py",
   "mimetype": "text/x-python",
   "name": "python",
   "nbconvert_exporter": "python",
   "pygments_lexer": "ipython3",
   "version": "3.10.10"
  },
  "vscode": {
   "interpreter": {
    "hash": "a42ccb73e7d9bfdf27e036f1d2b8b681e55fc0743cc5586bc2474d4a60f4b886"
   }
  }
 },
 "nbformat": 4,
 "nbformat_minor": 2
}
