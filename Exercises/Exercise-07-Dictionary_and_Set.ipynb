{
 "cells": [
  {
   "attachments": {},
   "cell_type": "markdown",
   "metadata": {},
   "source": [
    "# Exercise 7\n",
    "\n",
    "Related Notes:\n",
    "- Chapter_03_Data_Structures\n",
    "- Chapter_04_Functions\n",
    "\n",
    "For questions 7.1, 7.2 and 7.6, you are to implement both :\n",
    "- an **iterative version**, and \n",
    "- a **recursive version** \n",
    "of the function specified.\n",
    "\n",
    "Please decide on your own function name.\n",
    "\n",
    "[![Open In Colab](https://colab.research.google.com/assets/colab-badge.svg)](https://colab.research.google.com/github/njc-cz2-2021/Materials/blob/main/Exercises/Exercise-07-Dictionary_and_Set.ipynb) "
   ]
  },
  {
   "cell_type": "markdown",
   "metadata": {},
   "source": [
    "## Exercise 7.1\n",
    "\n",
    "Write a function that takes in a positive integer, $n$, and returns `True` if $n$ is a prime number and `False` if it's not.\n",
    "\n",
    "**Example Interaction**\n",
    ">```\n",
    ">your_function(7)\n",
    ">True\n",
    ">your_function(9)\n",
    ">False\n",
    ">```"
   ]
  },
  {
   "cell_type": "code",
   "execution_count": 6,
   "metadata": {},
   "outputs": [
    {
     "name": "stdout",
     "output_type": "stream",
     "text": [
      "True\n",
      "False\n",
      "False\n",
      "True\n"
     ]
    }
   ],
   "source": [
    "#YOUR CODE HERE\n",
    "def primeiter(n):\n",
    "    if n <= 1:\n",
    "        return False\n",
    "    for i in range(2, n):\n",
    "        if n % i == 0:\n",
    "            return False\n",
    "    return True\n",
    "\n",
    "print(primeiter(11))   #Prime test\n",
    "print(primeiter(9))      #Non prime test\n",
    "\n",
    "def primerecur(n):\n",
    "    if n <= 1:\n",
    "        return False\n",
    "    def cheatprimerecur(a, b = 2):\n",
    "        if a == b:     #Base case where integer has reached itself in value\n",
    "            return True     \n",
    "        if a % b == 0:    #Immediately ends function and returns False\n",
    "            return False\n",
    "        else:\n",
    "            return cheatprimerecur(a, b + 1)\n",
    "    return cheatprimerecur(n)\n",
    "\n",
    "print(primerecur(1))   #Funny test case\n",
    "print(primerecur(11))\n",
    "\n",
    "\n",
    "\n",
    "    \n"
   ]
  },
  {
   "cell_type": "markdown",
   "metadata": {},
   "source": [
    "## Exercise 7.2\n",
    "\n",
    "Write a function that takes in a positive integer $n$, and prints outs the digits in English word form. For example, when given as input: `3214`, the function should print: `three two one four` in one line.\n",
    "\n",
    "**Example Interaction**\n",
    ">```\n",
    ">your_function(3214)\n",
    ">three two one four\n",
    ">```"
   ]
  },
  {
   "cell_type": "code",
   "execution_count": 8,
   "metadata": {},
   "outputs": [
    {
     "name": "stdout",
     "output_type": "stream",
     "text": [
      "one two three three five seven two nine eight three nine eight five four \n",
      "one two three two three four nine two eight three four\n",
      "zero\n"
     ]
    }
   ],
   "source": [
    "#YOUR CODE HERE\n",
    "engnum = {0 : \"zero\", 1 : \"one\", 2 : \"two\", 3 : \"three\",           #Create dictionary for spelling of each number\n",
    "                  4 : \"four\", 5 : \"five\" , 6 : \"six\",\n",
    "                  7 : \"seven\", 8 : \"eight\", 9 : \"nine\"}\n",
    "\n",
    "#Iteration idea ---- Convert positive integer to string and check each individual digit in integer form\n",
    "def engnumiter(a):\n",
    "    global engnum           #To access the dictionary of English spellings of digits\n",
    "    english = \"\"    #Variable that will contain the Engllish translations of the digits\n",
    "    for i in list(str(a)):     #Run a for loop in the LIST of the STRING version of a    E.g. 123 --> ['1','2','3']\n",
    "        english += engnum[int(i)] + \" \"      #Compare to dictionary of english spelllings for each digit\n",
    "    return english\n",
    "\n",
    "print(engnumiter(12335729839854))\n",
    "\n",
    "def engnumrecur(a): #Idea, Get first digit of number (Convert to English) and repeat until done\n",
    "    global engnum\n",
    "    power = 1     \n",
    "    while a // 10**power:      #Find value of power such that a // 10**power = 0\n",
    "        power += 1     \n",
    "    if power == 1:     #When integer has only one digit left\n",
    "        return engnum[a]\n",
    "    else:        #English word translation of the first digit    +   Calling the recursive function of the subsequent digits (Removed first digit)\n",
    "        #E.g.     1234567 ---> \"one\"          +      function of 234567 called (gives \"two\" + fun`ction of 34567 called, etc)\n",
    "        return engnum[a // 10**(power-1)] + \" \" + engnumrecur(a % 10**(power-1))\n",
    "\n",
    "print(engnumrecur(12323492834))\n",
    "print(engnumrecur(0))\n",
    "\n",
    "    \n",
    "        "
   ]
  },
  {
   "cell_type": "markdown",
   "metadata": {},
   "source": [
    "## Exercise 7.3\n",
    "\n",
    "There are 5 usernames with their respective password. \n",
    "* user1: password1\n",
    "* user2: password2\n",
    "* user3: password3\n",
    "\n",
    "Implement a script such that:\n",
    "\n",
    "1. Use a suitable data structure to store usernames and passwords,\n",
    "2. User enters username and password\n",
    "3. Check user username and password\n",
    "    * If username does not exists, print \"User not found\"\n",
    "    * if username exists, but password doesn't match, print \"Wrong password\"\n",
    "    * If both username and password match, print \"You are in\"\n",
    "\n",
    "\n",
    "**Example Interaction**\n",
    ">```\n",
    ">Enter username: user10\n",
    ">Enter password: pass10\n",
    ">User not found\n",
    ">\n",
    ">Enter username: user1\n",
    ">Enter password: pass1\n",
    ">Wrong password\n",
    ">\n",
    ">Enter username: user1\n",
    ">Enter password: password1\n",
    ">You are in\n",
    ">```"
   ]
  },
  {
   "cell_type": "code",
   "execution_count": 57,
   "metadata": {},
   "outputs": [
    {
     "name": "stdout",
     "output_type": "stream",
     "text": [
      "For username: user5 and password: password5\n",
      "You are in\n"
     ]
    }
   ],
   "source": [
    "#YOUR CODE HERE\n",
    "users = {\"user1\" : \"password1\",\n",
    "         \"user2\" : \"password2\", \n",
    "         \"user3\" : \"password3\", \n",
    "         \"user4\" : \"password4\", \n",
    "         \"user5\" : \"password5\"}\n",
    "\n",
    "username = input(\"Enter Username: \")\n",
    "password = input(\"Enter Password: \")\n",
    "print(f\"For username: {username} and password: {password}\")\n",
    "if username not in users:\n",
    "    print(\"User not found\")\n",
    "else:\n",
    "    if users[username] == password:\n",
    "        print(\"You are in\")\n",
    "    else:\n",
    "        print(\"Wrong password\")"
   ]
  },
  {
   "cell_type": "markdown",
   "metadata": {},
   "source": [
    "## Exercise 7.4\n",
    "\n",
    "The winning number of Toto this week is `7, 20, 29, 41, 47, 49`. Implement a script to help user check result. \n",
    "* Define a function `match_count(win_nums, your_nums)` which returns the number of matched numbers. It takes in 2 lists as parameters, `win_nums` and `your_num`. The `winning_nums` contains winnning numbers, and `your_nums` contains number enters by user.\n",
    "* Ask user to input a list of numbers separated by space ` `.\n",
    "\n",
    "You probably need to use the `str.split()` method for this question. Use `help(str.split)` or search online. \n",
    "\n",
    "**Example Interaction**\n",
    ">```\n",
    ">Enter your Toto numbers separated by space: \n",
    ">1 7 20 29 41 47 49 50\n",
    ">Count of matched numbers:  6\n",
    ">```"
   ]
  },
  {
   "cell_type": "code",
   "execution_count": 66,
   "metadata": {},
   "outputs": [
    {
     "name": "stdout",
     "output_type": "stream",
     "text": [
      "6\n"
     ]
    }
   ],
   "source": [
    "#YOUR CODE HERE\n",
    "winning_numbers = [7, 20 ,29 ,41, 47, 49]\n",
    "def match_count(win_nums, your_nums : str): \n",
    "    matched = 0\n",
    "    for i in your_nums.split():\n",
    "        if int(i) in win_nums:\n",
    "            matched += 1\n",
    "    return matched\n",
    "\n",
    "print(match_count(winning_numbers, \"1 7 20 29 41 47 49 50\"))\n",
    "\n",
    "    "
   ]
  },
  {
   "cell_type": "markdown",
   "metadata": {},
   "source": [
    "## Exercise 7.5 Greatest Common Divisor\n",
    "\n",
    "Let $a$ be an integer. A **divisor** of $a$, also called a **factor** of $a$ is an integer $r$ such that there exists an integer $m$ such that $mr=a$. For example, if $a=20$, then $2$ and $5$ are both divisors of $a$ as $2\\times 10=20$ and $5 \\times 4=20$.\n",
    "\n",
    "Write a function that takes in a positive integer $n$, and return a list of all positive integers that is the divisor of $n$.\n",
    "\n",
    "**Example Interaction**\n",
    ">```\n",
    ">your_function(20)\n",
    ">[1,2,4,5,10,20]\n",
    ">```\n",
    "\n",
    "Let $a$ and $b$ be positive integers. A **common divisor** of $a$ and $b$ is a positive integer $r$ such that there exists positive integers $m_1,m_2$ such that $a=m_1*r$ and $b=m_2*r$. The highest of such integer is called the **greatest of common divisor of $a$ and $b$**, denoted as $\\gcd(a,b)$.\n",
    "\n",
    "Using the function you have defined previously, Write a function `gcd` that takes in 2 positive integer $a$ and $b$, and return the greatest common divisor of $a$ and $b$. \n",
    "\n",
    "**Example Interaction**\n",
    ">```\n",
    ">gcd(4,10)\n",
    ">2\n",
    ">```"
   ]
  },
  {
   "cell_type": "code",
   "execution_count": 5,
   "metadata": {},
   "outputs": [
    {
     "name": "stdout",
     "output_type": "stream",
     "text": [
      "[1, 29, 103, 743, 1091, 2987, 21547, 31639, 76529, 112373, 810613, 2219341, 3258817, 23507777, 83493139, 2421301031]\n",
      "11\n"
     ]
    }
   ],
   "source": [
    "#YOUR CODE HERE\n",
    "import math\n",
    "\n",
    "def factors(n):\n",
    "    check = n\n",
    "    if math.sqrt(n).is_integer():\n",
    "        check = int(math.sqrt(n))\n",
    "    factor = []\n",
    "    prev = 0\n",
    "    for i in range(1,check + 1):\n",
    "        if i == prev:\n",
    "            break\n",
    "        if n % i == 0 and i != (n//i):\n",
    "            factor.append(i)\n",
    "            factor.append(n // i)\n",
    "            prev = n // i\n",
    "        elif n % i == 0:\n",
    "            factor.append(i)\n",
    "    return sorted(factor)\n",
    "\n",
    "print(factors(2421301031))\n",
    "\n",
    "def gcd(a,b):\n",
    "    c = []\n",
    "    for i in factors(a):\n",
    "        if i in factors(b):\n",
    "            c.append(i)\n",
    "    return max(c)\n",
    "\n",
    "print(gcd(121,132))"
   ]
  },
  {
   "cell_type": "markdown",
   "metadata": {},
   "source": [
    "## Exercise 7.6 Euclidean Algorithm\n",
    "\n",
    "A more efficient method to compute the greatest common divisor of two integers $a$ and $b$ is by using the Euclidean algorithm. It is based on the principle that the greatest common divisor of two numbers does not change if the larger number is replaced by its difference with the smaller number. For example,\n",
    "\n",
    "$$\n",
    "\\begin{align*}\n",
    "\\gcd(252,105)&=21\\\\ \n",
    "&=\\gcd(252-2(105)=42,105)\\\\\n",
    "&=\\gcd(42,105-2(42)=21)\\\\\n",
    "&=\\gcd(42,21)\n",
    "\\end{align*}\n",
    "$$\n",
    "\n",
    "In particular, assume $a>b$, then by Division Algorithm, there exists $q\\in \\mathbb{Z}$ such that $a=qb+r$, where $0\\leq r<b$. Then, \n",
    "$$\n",
    "\\begin{align*}\n",
    "\\gcd(a,b)&=\\gcd(a-qb,b)\\\\\n",
    "&=\\gcd(r,b).\n",
    "\\end{align*}\n",
    "$$\n",
    "\n",
    "Write a function that takes in 2 positive integer $a$ and $b$, and return the greatest common divisor of $a$ and $b$.\n",
    "\n",
    "**Example Interaction**\n",
    ">```\n",
    ">your_function(4,10)\n",
    ">2\n",
    ">```"
   ]
  },
  {
   "cell_type": "code",
   "execution_count": 32,
   "metadata": {},
   "outputs": [
    {
     "name": "stdout",
     "output_type": "stream",
     "text": [
      "6\n",
      "6\n"
     ]
    }
   ],
   "source": [
    "#YOUR CODE HERE\n",
    "def euclidean(a,b):\n",
    "    while a != 0 and b != 0:\n",
    "        newa = b * (a // b)\n",
    "        newb = a - newa\n",
    "        a = b\n",
    "        b = newb\n",
    "    if a == 0:\n",
    "        return b\n",
    "    else:\n",
    "        return a\n",
    "\n",
    "print(euclidean(270,192))\n",
    "\n",
    "def euclidrecur(a,b):\n",
    "    if a == 0:\n",
    "        return b\n",
    "    elif b == 0:\n",
    "        return a\n",
    "    else:\n",
    "        return euclidrecur(b, a - b*(a // b))\n",
    "    \n",
    "print(euclidrecur(270, 192))\n"
   ]
  },
  {
   "cell_type": "markdown",
   "metadata": {},
   "source": [
    "## Exercise 7.7\n",
    "Write a function that takes in a list of positive integers, $N$, and returns the greatest common divisor (i.e., the highest common factor) of all integers in $N$."
   ]
  },
  {
   "cell_type": "code",
   "execution_count": 36,
   "metadata": {},
   "outputs": [
    {
     "name": "stdout",
     "output_type": "stream",
     "text": [
      "23\n"
     ]
    }
   ],
   "source": [
    "#YOUR CODE HERE\n",
    "#Apply function from E.x. 7.5 \n",
    "def gcdints(N : list):      #Brute force shitshow\n",
    "    storage = []   #Empty list to store factors of each number in N\n",
    "    smallest = min(N)    #Obtain smallest number\n",
    "    for i in N:         #Run through the list of numbers\n",
    "        if i == smallest:    #Case where the number is the smallest number\n",
    "            pass   #No point appending to list since it is the list of factors being checked\n",
    "        else:         \n",
    "            storage.append(factors(i))     #Obtain factors of the number and append to list\n",
    "    for i in reversed(factors(smallest)):      #Run through smallest number factors in descending order \n",
    "        check = True    #Assume the factor is present in every other list\n",
    "        for x in storage:\n",
    "            if i not in x:      #Factor is proven to not be in one of the number's factors\n",
    "                check = False   #set to false to not return factor as answer\n",
    "        if check:\n",
    "            return i\n",
    "\n",
    "print(gcdints([23,69,46]))\n",
    "        \n",
    "    \n",
    "\n",
    "    \n",
    "\n"
   ]
  }
 ],
 "metadata": {
  "kernelspec": {
   "display_name": "Python 3",
   "language": "python",
   "name": "python3"
  },
  "language_info": {
   "codemirror_mode": {
    "name": "ipython",
    "version": 3
   },
   "file_extension": ".py",
   "mimetype": "text/x-python",
   "name": "python",
   "nbconvert_exporter": "python",
   "pygments_lexer": "ipython3",
   "version": "3.10.10"
  },
  "orig_nbformat": 2,
  "vscode": {
   "interpreter": {
    "hash": "a42ccb73e7d9bfdf27e036f1d2b8b681e55fc0743cc5586bc2474d4a60f4b886"
   }
  }
 },
 "nbformat": 4,
 "nbformat_minor": 2
}
