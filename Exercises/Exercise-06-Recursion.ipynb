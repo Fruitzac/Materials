{
 "cells": [
  {
   "attachments": {},
   "cell_type": "markdown",
   "metadata": {},
   "source": [
    "# Exercise 6\n",
    "\n",
    "Related Notes:\n",
    "- Chapter_04_Functions\n",
    "\n",
    "For each question, you are to implement both :\n",
    "- an **iterative version**, and \n",
    "- a **recursive version** \n",
    "of the function specified.\n",
    "\n",
    "Please decide on your own function name.\n",
    "\n",
    "[![Open In Colab](https://colab.research.google.com/assets/colab-badge.svg)](https://colab.research.google.com/github/njc-cz2-2021/Materials/blob/main/Exercises/Exercise-06-Recursion.ipynb) "
   ]
  },
  {
   "cell_type": "markdown",
   "metadata": {},
   "source": [
    "## Exercise 6.1 \n",
    "\n",
    "Write a function that takes in a positive integer $n$, and prints the numbers from $n$ to $0$ (in descending order).\n",
    "Example interaction: \n",
    "\n",
    ">```\n",
    ">your_function(3)\n",
    ">3\n",
    ">2\n",
    ">1\n",
    ">0\n",
    ">```"
   ]
  },
  {
   "cell_type": "code",
   "execution_count": 2,
   "metadata": {},
   "outputs": [
    {
     "name": "stdout",
     "output_type": "stream",
     "text": [
      "3\n",
      "2\n",
      "1\n",
      "0\n"
     ]
    }
   ],
   "source": [
    "#YOUR CODE HERE\n",
    "def vaporiseiter(a):\n",
    "    while a:\n",
    "        print(a)\n",
    "        a -= 1\n",
    "    return a\n",
    "\n",
    "#print(vaporiseiter(3))\n",
    "\n",
    "def  vaporiserecur(a):\n",
    "    if a == 0:\n",
    "        return a\n",
    "    else:\n",
    "        print(a)\n",
    "        return vaporiserecur(a-1) \n",
    "\n",
    "print(vaporiserecur(3))\n"
   ]
  },
  {
   "attachments": {},
   "cell_type": "markdown",
   "metadata": {},
   "source": [
    "## Exercise 6.2 \n",
    "\n",
    "Without using the `**` operator, write a function that takes in 2 inputs: \n",
    "1. a base integer, $x$, and \n",
    "2. an integer exponent $n$, and \n",
    "then returns the value $x^n$. You may not import the `math` module, and you may not use the built-in `pow()` function.\n",
    "\n",
    ">```\n",
    ">your_function(3,2)\n",
    ">9\n",
    ">```"
   ]
  },
  {
   "cell_type": "code",
   "execution_count": 3,
   "metadata": {},
   "outputs": [
    {
     "name": "stdout",
     "output_type": "stream",
     "text": [
      "9\n",
      "0.037037037037037035\n",
      "9\n",
      "0.037037037037037035\n"
     ]
    }
   ],
   "source": [
    "#YOUR CODE HERE\n",
    "\n",
    "#Functions ( To consider both positive and negative)\n",
    "def pownopowiter(a,b):\n",
    "    if  b < 0:       #Test for negative exponential n\n",
    "        b = abs(b)     #Get absolute value of b \n",
    "        negative = True\n",
    "    else:\n",
    "        negative = False\n",
    "    newa = 1     #Set base to 1\n",
    "    while b > 0:    #Do newa * a for b number of times\n",
    "        newa *= a\n",
    "        b -= 1\n",
    "    if negative:   #Negative case, returns fraction of exponent (Decimal form)\n",
    "        return 1 / newa\n",
    "    else:   #Positive case, return regular exponent value\n",
    "        return newa   \n",
    "\n",
    "print(pownopowiter(3,2))\n",
    "print(pownopowiter(3,-3))\n",
    "\n",
    "def pownopowrecur(a,b,store = 1, negative = False) :\n",
    "    if b < 0:    #Check for negative case ONCE\n",
    "        negative = True   #Permanantly set variable to detect negative\n",
    "        b = abs(b)     #Set to distance of number to 0\n",
    "    if b == 0: #Base case\n",
    "        if negative:    #Negative case, returns fraction of exponent (Decimal form)\n",
    "            return 1 / store\n",
    "        else:     #Postiive case, return regular exponent value\n",
    "            return store\n",
    "    else:\n",
    "        return pownopowrecur(a,b-1,store*a, negative)\n",
    "\n",
    "print(pownopowiter(3,2))  \n",
    "print(pownopowrecur(3,-3))  \n",
    "\n",
    "    \n",
    "    "
   ]
  },
  {
   "cell_type": "markdown",
   "metadata": {},
   "source": [
    "## Exercise 6.3\n",
    "\n",
    "Write a function that takes in a positive integer $n$, and returns the number of digits in $n$. You may not use the built-in `str()` function.\n",
    "\n",
    ">```\n",
    ">your_function(`12345678910`)\n",
    ">11\n",
    ">```"
   ]
  },
  {
   "cell_type": "code",
   "execution_count": 1,
   "metadata": {},
   "outputs": [
    {
     "name": "stdout",
     "output_type": "stream",
     "text": [
      "11\n",
      "13\n",
      "1\n",
      "11\n",
      "13\n",
      "1\n"
     ]
    }
   ],
   "source": [
    "#YOUR CODE HERE\n",
    "def digitsiter(a : int) -> int:\n",
    "    divisor = 10\n",
    "    power = 1\n",
    "    while a //10**power:     #To determine the largest place value (When a // b produces 0, where b is a real number)\n",
    "        power += 1   #Increase power of 10 by 1\n",
    "    return power   #To count the digits (Number of zeros)\n",
    "\n",
    "print(digitsiter(12345678910))    #E.g. from Exercise 6.3\n",
    "print(digitsiter(5834175703159))    #Random test case\n",
    "print(digitsiter(0))   #Funny test case\n",
    "\n",
    "#Recursivecheat\n",
    "def digitsrecur(a, digits = 1):       \n",
    "    if a //10 == 0:       #Check if floor division gives zero --> Means that only one digit (a < 10)\n",
    "        return digits  \n",
    "    else:\n",
    "        return digitsrecur(a // 10 , digits + 1)\n",
    "    \n",
    "\n",
    "#Properrecur\n",
    "def digitsrecurprop(n):\n",
    "    if n < 10:\n",
    "        return 1\n",
    "    else:\n",
    "        return 1 + digitsrecurprop(n // 10)\n",
    "    \n",
    "print(digitsrecur(12345678910))    #E.g. from Exercise 6.3\n",
    "print(digitsrecur(5834175703159))    #Random test case\n",
    "print(digitsrecur(0))   #Funny test case\n",
    "\n",
    "    \n",
    "    \n",
    "        \n",
    "    \n"
   ]
  },
  {
   "cell_type": "markdown",
   "metadata": {},
   "source": [
    "## Exercise 6.4\n",
    "\n",
    "Write a function that takes in a string, `s`, and returns a reversed copy of `s`. The only string operation you are allowed to use is string concatenation.\n",
    "\n",
    ">```\n",
    ">your_function(`CJN`)\n",
    ">NJC\n",
    ">```"
   ]
  },
  {
   "cell_type": "code",
   "execution_count": 6,
   "metadata": {},
   "outputs": [
    {
     "name": "stdout",
     "output_type": "stream",
     "text": [
      "NJC\n",
      "\"ehtgipappeP\n",
      "NJC\n",
      "yrotcafetalocohc\n",
      "solleh\n"
     ]
    }
   ],
   "source": [
    "#YOUR CODE HERE\n",
    "def reviter(a : str):\n",
    "   new = ''\n",
    "   for i in range(len(a)):\n",
    "      new += a[-i -1]\n",
    "   return new\n",
    "\n",
    "print(reviter('CJN'))\n",
    "print(reviter('Peppapigthe\"'))\n",
    "\n",
    "reversedstr = \"\"\n",
    "def revrecur(a : str):\n",
    "   def wrapper(a:str,  track = -1, reversedstr = \"\"):\n",
    "      if len(reversedstr) == len(a) :\n",
    "         return reversedstr\n",
    "      else:\n",
    "         reversedstr += a[track]\n",
    "         return wrapper(a, track - 1, reversedstr)\n",
    "   return wrapper(a)\n",
    "\n",
    "#Properrecursion\n",
    "def rec_reverse(s):\n",
    "   if s == \"\":\n",
    "      return ''\n",
    "   return rec_reverse(s[1:]) + s[0]\n",
    "\n",
    "print(revrecur(\"CJN\"))\n",
    "print(revrecur('chocolatefactory'))\n",
    "\n",
    "print(rec_reverse(\"hellos\"))\n",
    "   \n",
    "   \n",
    "\n",
    "      \n",
    "        \n"
   ]
  },
  {
   "cell_type": "code",
   "execution_count": 2,
   "metadata": {},
   "outputs": [
    {
     "name": "stdout",
     "output_type": "stream",
     "text": [
      "njc\n"
     ]
    }
   ],
   "source": [
    "from functools import reduce \n",
    "\n",
    "print(reduce(lambda x, y: y + x, \"cjn\"))"
   ]
  },
  {
   "cell_type": "code",
   "execution_count": 7,
   "metadata": {},
   "outputs": [
    {
     "name": "stdout",
     "output_type": "stream",
     "text": [
      "NJC\n"
     ]
    }
   ],
   "source": [
    "def revcheat(a : str):\n",
    "    return a[::-1]\n",
    "\n",
    "print(revcheat(\"CJN\"))"
   ]
  },
  {
   "cell_type": "markdown",
   "metadata": {},
   "source": [
    "## Exercise 6.5\n",
    "\n",
    "Write a function that takes in a list of integers and returns the sum of the integers in that list. You may not import the `math` module, and you may not use the `sum()` built-in function.\n",
    "\n",
    ">```\n",
    ">your_function([1,2,3])\n",
    ">6\n",
    ">```"
   ]
  },
  {
   "cell_type": "code",
   "execution_count": 37,
   "metadata": {},
   "outputs": [
    {
     "name": "stdout",
     "output_type": "stream",
     "text": [
      "6\n",
      "26\n",
      "6\n",
      "55\n"
     ]
    }
   ],
   "source": [
    "#YOUR CODE HERE\n",
    "def sumiter(a : list):\n",
    "    sum = 0\n",
    "    for i in a:\n",
    "        sum += i\n",
    "    return sum\n",
    "\n",
    "print(sumiter([1,2,3]))\n",
    "print(sumiter([1,4,5,3,6,7]))\n",
    "\n",
    "def sumrecur(a : list):\n",
    "    if len(a) == 1:   #When only one integer is left in the list (Added to other integers of the list)\n",
    "        return a[0]\n",
    "    else:\n",
    "        return a[0] + sumrecur(a[1:])   #First number of the list + Recursive of the next first in the list after popped\n",
    "    \n",
    "print(sumrecur([1,2,3]))\n",
    "print(sumrecur([1,4,5,3,6,7,8,9,2,10]))\n",
    "\n",
    "    "
   ]
  },
  {
   "cell_type": "markdown",
   "metadata": {},
   "source": [
    "## Exercise 6.6\n",
    "\n",
    "Write a function that takes in a list of real numbers and returns the mean of all the values in the list. You may not import the math module, and you may not use the `sum()` built-in function.\n",
    "\n",
    ">```\n",
    ">your_function([1,2,3])\n",
    ">2\n",
    ">```"
   ]
  },
  {
   "cell_type": "code",
   "execution_count": 50,
   "metadata": {},
   "outputs": [
    {
     "name": "stdout",
     "output_type": "stream",
     "text": [
      "2.0\n",
      "3.4285714285714284\n",
      "3.0\n",
      "5.5\n"
     ]
    }
   ],
   "source": [
    "#YOUR CODE HERE\n",
    "def avgiter(a : list):\n",
    "    sum = 0\n",
    "    divisor = len(a)\n",
    "    for i in a:\n",
    "        sum += i\n",
    "    return sum / divisor\n",
    "\n",
    "print(avgiter([1,2,3]))\n",
    "print(avgiter([1,4,3,5,6,3,2]))\n",
    "\n",
    "def avgrecur(a : list):\n",
    "    if len(a) == 1:\n",
    "        return a[0]\n",
    "    else:\n",
    "        return (a[0] + (len(a) - 1) * avgrecur(a[1:])) / len(a)\n",
    "        \n",
    "print(avgrecur([1,2,3,4,5]))\n",
    "\n",
    "\n",
    "def avgrecurcheat(a : list):    #Sum divided by divisor (Recursion in the sum step only)\n",
    "    #Using function from prev E.x. 6.5\n",
    "    divisor = len(a)\n",
    "    return sumrecur(a) / divisor\n",
    "\n",
    "print(avgrecurcheat([1,2,3,4,5,6,7,8,9,10]))"
   ]
  },
  {
   "cell_type": "markdown",
   "metadata": {},
   "source": [
    "## Exercise 6.7\n",
    "\n",
    "Write a function that takes in a list of real numbers and returns the minimum value from that list. You may not use the built-in `min()` and `sorted()` functions, and you may not use the `list.sort()` method.\n",
    "\n",
    ">```\n",
    ">your_function([1,2,3])\n",
    ">1\n",
    ">```"
   ]
  },
  {
   "cell_type": "code",
   "execution_count": 16,
   "metadata": {},
   "outputs": [
    {
     "name": "stdout",
     "output_type": "stream",
     "text": [
      "4\n",
      "5\n",
      "23\n"
     ]
    }
   ],
   "source": [
    "#YOUR CODE HERE\n",
    "def miniter(a):\n",
    "    minimum = a[0]\n",
    "    for i in range(len(a)):\n",
    "        if minimum < a[i]:\n",
    "            pass\n",
    "        else:\n",
    "            minimum = a[i]\n",
    "    return minimum\n",
    "\n",
    "print(miniter([5,4,6,8,6,5,8]))\n",
    "\n",
    "def minrecur(a):     #Idea, compare the items in the list and pop those away that are larger\n",
    "    if len(a) == 1:\n",
    "        return a[0]\n",
    "    else:\n",
    "        if a[0] < a[1]:\n",
    "            a.pop(1)\n",
    "            return minrecur(a)   \n",
    "        else:\n",
    "            return minrecur(a[1:])   #Recursive of list that popped first index\n",
    "    \n",
    "print(minrecur([5,6,7,6,7,7,9,6,5,7]))\n",
    "print(minrecur([123,434,64,435,3543,634,6345,343,235,32,35,32,532,23,23,32]))  "
   ]
  }
 ],
 "metadata": {
  "kernelspec": {
   "display_name": "Python 3",
   "language": "python",
   "name": "python3"
  },
  "language_info": {
   "codemirror_mode": {
    "name": "ipython",
    "version": 3
   },
   "file_extension": ".py",
   "mimetype": "text/x-python",
   "name": "python",
   "nbconvert_exporter": "python",
   "pygments_lexer": "ipython3",
   "version": "3.10.10"
  },
  "orig_nbformat": 2,
  "vscode": {
   "interpreter": {
    "hash": "a42ccb73e7d9bfdf27e036f1d2b8b681e55fc0743cc5586bc2474d4a60f4b886"
   }
  }
 },
 "nbformat": 4,
 "nbformat_minor": 2
}
